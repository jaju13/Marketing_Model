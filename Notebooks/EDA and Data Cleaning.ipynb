{
 "cells": [
  {
   "cell_type": "code",
   "execution_count": 6,
   "id": "6df9fc50",
   "metadata": {},
   "outputs": [],
   "source": [
    "import pandas as pd\n",
    "import numpy as np\n",
    "from pathlib import Path\n",
    "import matplotlib.pyplot as plt\n",
    "import seaborn as sns\n",
    "from functools import reduce\n",
    "from sklearn.preprocessing import StandardScaler,OneHotEncoder\n"
   ]
  },
  {
   "cell_type": "code",
   "execution_count": 7,
   "id": "aa566aa6",
   "metadata": {},
   "outputs": [],
   "source": [
    "pd.options.display.max_columns=None"
   ]
  },
  {
   "cell_type": "code",
   "execution_count": 8,
   "id": "e3cd1385",
   "metadata": {},
   "outputs": [],
   "source": [
    "data_file = \"../data/Dataset.xlsx\"\n",
    "path = Path(data_file)\n",
    "assert path.exists(), \"Data file does not exist\""
   ]
  },
  {
   "cell_type": "code",
   "execution_count": 9,
   "id": "7ffe6e15",
   "metadata": {},
   "outputs": [],
   "source": [
    "client_demographics = pd.read_excel(path, sheet_name='Soc_Dem')\n",
    "client_products = pd.read_excel(path, sheet_name='Products_ActBalance')\n",
    "client_inflow_outflow = pd.read_excel(path, sheet_name='Inflow_Outflow')\n",
    "client_sales_rev = pd.read_excel(path, sheet_name='Sales_Revenues')"
   ]
  },
  {
   "cell_type": "markdown",
   "id": "87cd843e",
   "metadata": {},
   "source": [
    "# Analyzing client_demographics"
   ]
  },
  {
   "cell_type": "code",
   "execution_count": 10,
   "id": "66686d28",
   "metadata": {},
   "outputs": [
    {
     "data": {
      "text/plain": [
       "Client    False\n",
       "Sex        True\n",
       "Age       False\n",
       "Tenure    False\n",
       "dtype: bool"
      ]
     },
     "execution_count": 10,
     "metadata": {},
     "output_type": "execute_result"
    }
   ],
   "source": [
    "# Identify missing values if any\n",
    "client_demographics.isna().any()"
   ]
  },
  {
   "cell_type": "code",
   "execution_count": 11,
   "id": "e4a5f8de",
   "metadata": {},
   "outputs": [
    {
     "name": "stdout",
     "output_type": "stream",
     "text": [
      "(array([ 422, 1062, 1494], dtype=int64),)\n"
     ]
    },
    {
     "data": {
      "text/html": [
       "<div>\n",
       "<style scoped>\n",
       "    .dataframe tbody tr th:only-of-type {\n",
       "        vertical-align: middle;\n",
       "    }\n",
       "\n",
       "    .dataframe tbody tr th {\n",
       "        vertical-align: top;\n",
       "    }\n",
       "\n",
       "    .dataframe thead th {\n",
       "        text-align: right;\n",
       "    }\n",
       "</style>\n",
       "<table border=\"1\" class=\"dataframe\">\n",
       "  <thead>\n",
       "    <tr style=\"text-align: right;\">\n",
       "      <th></th>\n",
       "      <th>Client</th>\n",
       "      <th>Sex</th>\n",
       "      <th>Age</th>\n",
       "      <th>Tenure</th>\n",
       "    </tr>\n",
       "  </thead>\n",
       "  <tbody>\n",
       "    <tr>\n",
       "      <th>422</th>\n",
       "      <td>1363</td>\n",
       "      <td>NaN</td>\n",
       "      <td>38</td>\n",
       "      <td>8</td>\n",
       "    </tr>\n",
       "    <tr>\n",
       "      <th>1062</th>\n",
       "      <td>953</td>\n",
       "      <td>NaN</td>\n",
       "      <td>50</td>\n",
       "      <td>35</td>\n",
       "    </tr>\n",
       "    <tr>\n",
       "      <th>1494</th>\n",
       "      <td>843</td>\n",
       "      <td>NaN</td>\n",
       "      <td>36</td>\n",
       "      <td>151</td>\n",
       "    </tr>\n",
       "  </tbody>\n",
       "</table>\n",
       "</div>"
      ],
      "text/plain": [
       "      Client  Sex  Age  Tenure\n",
       "422     1363  NaN   38       8\n",
       "1062     953  NaN   50      35\n",
       "1494     843  NaN   36     151"
      ]
     },
     "metadata": {},
     "output_type": "display_data"
    }
   ],
   "source": [
    "# Identify rows where Sex is NaN\n",
    "clients_Sex_Nan = np.where(client_demographics.Sex.isna())\n",
    "print(clients_Sex_Nan)\n",
    "display(client_demographics.loc[clients_Sex_Nan])\n",
    "client_demographics.dropna(subset=['Sex'],inplace=True)\n"
   ]
  },
  {
   "cell_type": "code",
   "execution_count": 12,
   "id": "681a8249",
   "metadata": {},
   "outputs": [
    {
     "data": {
      "text/html": [
       "<div>\n",
       "<style scoped>\n",
       "    .dataframe tbody tr th:only-of-type {\n",
       "        vertical-align: middle;\n",
       "    }\n",
       "\n",
       "    .dataframe tbody tr th {\n",
       "        vertical-align: top;\n",
       "    }\n",
       "\n",
       "    .dataframe thead th {\n",
       "        text-align: right;\n",
       "    }\n",
       "</style>\n",
       "<table border=\"1\" class=\"dataframe\">\n",
       "  <thead>\n",
       "    <tr style=\"text-align: right;\">\n",
       "      <th></th>\n",
       "      <th>Age</th>\n",
       "      <th>Tenure</th>\n",
       "    </tr>\n",
       "  </thead>\n",
       "  <tbody>\n",
       "    <tr>\n",
       "      <th>count</th>\n",
       "      <td>1612.000000</td>\n",
       "      <td>1612.000000</td>\n",
       "    </tr>\n",
       "    <tr>\n",
       "      <th>mean</th>\n",
       "      <td>42.851737</td>\n",
       "      <td>101.408189</td>\n",
       "    </tr>\n",
       "    <tr>\n",
       "      <th>std</th>\n",
       "      <td>18.565762</td>\n",
       "      <td>64.903220</td>\n",
       "    </tr>\n",
       "    <tr>\n",
       "      <th>min</th>\n",
       "      <td>0.000000</td>\n",
       "      <td>0.000000</td>\n",
       "    </tr>\n",
       "    <tr>\n",
       "      <th>25%</th>\n",
       "      <td>29.000000</td>\n",
       "      <td>44.000000</td>\n",
       "    </tr>\n",
       "    <tr>\n",
       "      <th>50%</th>\n",
       "      <td>41.000000</td>\n",
       "      <td>97.000000</td>\n",
       "    </tr>\n",
       "    <tr>\n",
       "      <th>75%</th>\n",
       "      <td>57.000000</td>\n",
       "      <td>151.000000</td>\n",
       "    </tr>\n",
       "    <tr>\n",
       "      <th>max</th>\n",
       "      <td>97.000000</td>\n",
       "      <td>273.000000</td>\n",
       "    </tr>\n",
       "  </tbody>\n",
       "</table>\n",
       "</div>"
      ],
      "text/plain": [
       "               Age       Tenure\n",
       "count  1612.000000  1612.000000\n",
       "mean     42.851737   101.408189\n",
       "std      18.565762    64.903220\n",
       "min       0.000000     0.000000\n",
       "25%      29.000000    44.000000\n",
       "50%      41.000000    97.000000\n",
       "75%      57.000000   151.000000\n",
       "max      97.000000   273.000000"
      ]
     },
     "execution_count": 12,
     "metadata": {},
     "output_type": "execute_result"
    }
   ],
   "source": [
    "client_demographics[['Age','Tenure']].describe()"
   ]
  },
  {
   "cell_type": "code",
   "execution_count": 13,
   "id": "d5c35de5",
   "metadata": {},
   "outputs": [],
   "source": [
    "def bin_plot_barchart(df, colname, col_min_val, col_max_val,bin_size, binned_colname):\n",
    "    tmp = df.copy()\n",
    "    bins = range(col_min_val, col_max_val+bin_size, bin_size)  # Create bins from 0 to 100 with a step of 10\n",
    "    labels = [f'{i}-{i+bin_size-1}' for i in bins[:-1]]  # Create bin labels like '0-9', '10-19', etc.\n",
    "\n",
    "    # Step 2: Bin the column using pd.cut()\n",
    "    tmp[binned_colname] = pd.cut(tmp[colname], bins=bins, labels=labels, right=False)\n",
    "\n",
    "    # Step 3: Count the number of values in each bin\n",
    "    tmp_group_counts = (tmp[binned_colname].value_counts().sort_index() / tmp.shape[0])*100\n",
    "\n",
    "    # Step 4: Plot a bar chart\n",
    "    plt.figure(figsize=(8, 6))\n",
    "    tmp_group_counts.plot(kind='bar', color='skyblue')\n",
    "    plt.title(colname+' Distribution in Groups of '+str(bin_size))\n",
    "    plt.xlabel(binned_colname)\n",
    "    plt.ylabel('Percentage')\n",
    "    plt.xticks(rotation=45)\n",
    "    plt.tight_layout()  # Adjust the layout to fit everything\n",
    "    plt.show()"
   ]
  },
  {
   "cell_type": "code",
   "execution_count": 14,
   "id": "3a3f662f",
   "metadata": {},
   "outputs": [
    {
     "name": "stdout",
     "output_type": "stream",
     "text": [
      "Index(['Client', 'Sex', 'Age', 'Tenure'], dtype='object')\n"
     ]
    },
    {
     "data": {
      "image/png": "[encoded data removed]",
      "text/plain": [
       "<Figure size 800x600 with 1 Axes>"
      ]
     },
     "metadata": {},
     "output_type": "display_data"
    }
   ],
   "source": [
    "print(client_demographics.columns)\n",
    "\n",
    "bin_plot_barchart(client_demographics, 'Age', 0, 100,10, 'Age_Group')\n"
   ]
  },
  {
   "cell_type": "code",
   "execution_count": 15,
   "id": "f6adf69b",
   "metadata": {},
   "outputs": [
    {
     "data": {
      "text/plain": [
       "Client    False\n",
       "Sex       False\n",
       "Age       False\n",
       "Tenure    False\n",
       "dtype: bool"
      ]
     },
     "execution_count": 15,
     "metadata": {},
     "output_type": "execute_result"
    }
   ],
   "source": [
    "client_demographics.isna().any()"
   ]
  },
  {
   "cell_type": "code",
   "execution_count": 16,
   "id": "358bb8eb",
   "metadata": {
    "scrolled": true
   },
   "outputs": [
    {
     "name": "stdout",
     "output_type": "stream",
     "text": [
      "Number of rows where age is 0 1\n",
      "Number of rows where age is less than tenure is 47\n",
      "Number of rows where age is 0 to 9 and also less than tenure 1\n"
     ]
    }
   ],
   "source": [
    "age_0 = np.where(client_demographics.Age == 0)\n",
    "print(f\"Number of rows where age is 0 {len(age_0[0])}\" )\n",
    "#display(client_demographics.loc[age_0_9])\n",
    "client_demographics['Age_in_months'] = client_demographics.Age*12\n",
    "age_less_than_tenure = np.where(client_demographics.Age_in_months < client_demographics.Tenure)[0]\n",
    "print(f\"Number of rows where age is less than tenure is {len(age_less_than_tenure)}\" )\n",
    "#display(client_demographics.loc[age_less_than_tenure])\n",
    "age_0_tenure_more = set(age_less_than_tenure) & set(age_0[0])\n",
    "elements_not_in_both = set(age_less_than_tenure) ^ set(age_0[0])\n",
    "print(f\"Number of rows where age is 0 to 9 and also less than tenure {len(age_0_tenure_more)}\" )\n",
    "\n",
    "# We see rows where the account tenure is more than the client's age. However under certain circumstances this is possible. \n",
    "# For example, when an account is inherit from a person's parents etc. Keeping the special circumstances, and with the \n",
    "# limited information available to us, I assume that these accounts are valid account. \n",
    "# Hence only removing the 1 row containing age=0\n",
    "\n",
    "client_demographics.drop(index=age_0[0], inplace=True)\n",
    "client_demographics.drop(columns=['Age_in_months'],inplace=True)"
   ]
  },
  {
   "cell_type": "code",
   "execution_count": 17,
   "id": "9284740b",
   "metadata": {},
   "outputs": [
    {
     "name": "stdout",
     "output_type": "stream",
     "text": [
      "Index(['Client', 'Sex', 'Age', 'Tenure'], dtype='object')\n"
     ]
    },
    {
     "data": {
      "text/plain": [
       "count    1611.000000\n",
       "mean      101.377405\n",
       "std        64.911600\n",
       "min         0.000000\n",
       "25%        44.000000\n",
       "50%        97.000000\n",
       "75%       151.000000\n",
       "max       273.000000\n",
       "Name: Tenure, dtype: float64"
      ]
     },
     "metadata": {},
     "output_type": "display_data"
    },
    {
     "data": {
      "image/png": "[encoded data removed]",
      "text/plain": [
       "<Figure size 800x600 with 1 Axes>"
      ]
     },
     "metadata": {},
     "output_type": "display_data"
    }
   ],
   "source": [
    "print(client_demographics.columns)\n",
    "display(client_demographics.Tenure.describe())\n",
    "bin_plot_barchart(client_demographics, 'Tenure', 0, 300,10, 'Tenure_Group')"
   ]
  },
  {
   "cell_type": "markdown",
   "id": "17f8cf23",
   "metadata": {},
   "source": [
    "# Analyzing client products"
   ]
  },
  {
   "cell_type": "code",
   "execution_count": 18,
   "id": "2b1fddf9",
   "metadata": {},
   "outputs": [
    {
     "data": {
      "text/html": [
       "<div>\n",
       "<style scoped>\n",
       "    .dataframe tbody tr th:only-of-type {\n",
       "        vertical-align: middle;\n",
       "    }\n",
       "\n",
       "    .dataframe tbody tr th {\n",
       "        vertical-align: top;\n",
       "    }\n",
       "\n",
       "    .dataframe thead th {\n",
       "        text-align: right;\n",
       "    }\n",
       "</style>\n",
       "<table border=\"1\" class=\"dataframe\">\n",
       "  <thead>\n",
       "    <tr style=\"text-align: right;\">\n",
       "      <th></th>\n",
       "      <th>Client</th>\n",
       "      <th>Count_CA</th>\n",
       "      <th>Count_SA</th>\n",
       "      <th>Count_MF</th>\n",
       "      <th>Count_OVD</th>\n",
       "      <th>Count_CC</th>\n",
       "      <th>Count_CL</th>\n",
       "      <th>ActBal_CA</th>\n",
       "      <th>ActBal_SA</th>\n",
       "      <th>ActBal_MF</th>\n",
       "      <th>ActBal_OVD</th>\n",
       "      <th>ActBal_CC</th>\n",
       "      <th>ActBal_CL</th>\n",
       "    </tr>\n",
       "  </thead>\n",
       "  <tbody>\n",
       "    <tr>\n",
       "      <th>0</th>\n",
       "      <td>1</td>\n",
       "      <td>1</td>\n",
       "      <td>NaN</td>\n",
       "      <td>NaN</td>\n",
       "      <td>1.0</td>\n",
       "      <td>NaN</td>\n",
       "      <td>NaN</td>\n",
       "      <td>1333.802857</td>\n",
       "      <td>NaN</td>\n",
       "      <td>NaN</td>\n",
       "      <td>0.0</td>\n",
       "      <td>NaN</td>\n",
       "      <td>NaN</td>\n",
       "    </tr>\n",
       "    <tr>\n",
       "      <th>1</th>\n",
       "      <td>2</td>\n",
       "      <td>1</td>\n",
       "      <td>1.0</td>\n",
       "      <td>NaN</td>\n",
       "      <td>NaN</td>\n",
       "      <td>NaN</td>\n",
       "      <td>NaN</td>\n",
       "      <td>110.768571</td>\n",
       "      <td>13326.190357</td>\n",
       "      <td>NaN</td>\n",
       "      <td>NaN</td>\n",
       "      <td>NaN</td>\n",
       "      <td>NaN</td>\n",
       "    </tr>\n",
       "    <tr>\n",
       "      <th>2</th>\n",
       "      <td>3</td>\n",
       "      <td>1</td>\n",
       "      <td>NaN</td>\n",
       "      <td>1.0</td>\n",
       "      <td>NaN</td>\n",
       "      <td>NaN</td>\n",
       "      <td>NaN</td>\n",
       "      <td>482.654643</td>\n",
       "      <td>NaN</td>\n",
       "      <td>107.251786</td>\n",
       "      <td>NaN</td>\n",
       "      <td>NaN</td>\n",
       "      <td>NaN</td>\n",
       "    </tr>\n",
       "    <tr>\n",
       "      <th>3</th>\n",
       "      <td>4</td>\n",
       "      <td>1</td>\n",
       "      <td>1.0</td>\n",
       "      <td>NaN</td>\n",
       "      <td>NaN</td>\n",
       "      <td>1.0</td>\n",
       "      <td>NaN</td>\n",
       "      <td>1599.840714</td>\n",
       "      <td>76.437143</td>\n",
       "      <td>NaN</td>\n",
       "      <td>NaN</td>\n",
       "      <td>1110.381786</td>\n",
       "      <td>NaN</td>\n",
       "    </tr>\n",
       "    <tr>\n",
       "      <th>4</th>\n",
       "      <td>5</td>\n",
       "      <td>1</td>\n",
       "      <td>1.0</td>\n",
       "      <td>NaN</td>\n",
       "      <td>NaN</td>\n",
       "      <td>NaN</td>\n",
       "      <td>NaN</td>\n",
       "      <td>5353.483929</td>\n",
       "      <td>8079.715714</td>\n",
       "      <td>NaN</td>\n",
       "      <td>NaN</td>\n",
       "      <td>NaN</td>\n",
       "      <td>NaN</td>\n",
       "    </tr>\n",
       "  </tbody>\n",
       "</table>\n",
       "</div>"
      ],
      "text/plain": [
       "   Client  Count_CA  Count_SA  Count_MF  Count_OVD  Count_CC  Count_CL  \\\n",
       "0       1         1       NaN       NaN        1.0       NaN       NaN   \n",
       "1       2         1       1.0       NaN        NaN       NaN       NaN   \n",
       "2       3         1       NaN       1.0        NaN       NaN       NaN   \n",
       "3       4         1       1.0       NaN        NaN       1.0       NaN   \n",
       "4       5         1       1.0       NaN        NaN       NaN       NaN   \n",
       "\n",
       "     ActBal_CA     ActBal_SA   ActBal_MF  ActBal_OVD    ActBal_CC  ActBal_CL  \n",
       "0  1333.802857           NaN         NaN         0.0          NaN        NaN  \n",
       "1   110.768571  13326.190357         NaN         NaN          NaN        NaN  \n",
       "2   482.654643           NaN  107.251786         NaN          NaN        NaN  \n",
       "3  1599.840714     76.437143         NaN         NaN  1110.381786        NaN  \n",
       "4  5353.483929   8079.715714         NaN         NaN          NaN        NaN  "
      ]
     },
     "execution_count": 18,
     "metadata": {},
     "output_type": "execute_result"
    }
   ],
   "source": [
    "client_products.head()"
   ]
  },
  {
   "cell_type": "code",
   "execution_count": 19,
   "id": "b8f7ea0e",
   "metadata": {},
   "outputs": [
    {
     "name": "stdout",
     "output_type": "stream",
     "text": [
      "Number of rows with more than 1 rows per client :  0\n"
     ]
    }
   ],
   "source": [
    "# Fill all NaN values with 0\n",
    "client_products.fillna(0, inplace=True)\n",
    "\n",
    "#Check if a client occurs once in the file\n",
    "tmp = client_products.groupby(['Client']).Client.count()\n",
    "print(\"Number of rows with more than 1 rows per client : \",sum(tmp>1))"
   ]
  },
  {
   "cell_type": "code",
   "execution_count": 20,
   "id": "2e50a09d",
   "metadata": {},
   "outputs": [
    {
     "name": "stdout",
     "output_type": "stream",
     "text": [
      " Clients with no CA, SA or MF : []\n"
     ]
    }
   ],
   "source": [
    "# Check if their are clients which don't have CA, SA or MF\n",
    "tmp = client_products.Count_CA + client_products.Count_SA +client_products.Count_MF \n",
    "print(f\" Clients with no CA, SA or MF : {np.where(tmp ==0.0)[0]}\")"
   ]
  },
  {
   "cell_type": "code",
   "execution_count": 21,
   "id": "7fe2cbc9",
   "metadata": {},
   "outputs": [
    {
     "name": "stdout",
     "output_type": "stream",
     "text": [
      "(array([], dtype=int64), array([], dtype=int64))\n",
      "(array([], dtype=int64), array([], dtype=int64))\n",
      "(array([], dtype=int64), array([], dtype=int64))\n",
      "(array([], dtype=int64), array([], dtype=int64))\n",
      "(array([], dtype=int64), array([], dtype=int64))\n",
      "(array([], dtype=int64), array([], dtype=int64))\n"
     ]
    }
   ],
   "source": [
    "# Checking if data contains rows where ActBal_CA is non zero even if Count_CA is 0\n",
    "print(np.where([(client_products.Count_CA==0) & (client_products.ActBal_CA>0)]))\n",
    "# Checking if data contains rows where ActBal_SA is non zero even if Count_SA is 0\n",
    "print(np.where([(client_products.Count_SA==0) & (client_products.ActBal_SA>0)]))\n",
    "# Checking if data contains rows where ActBal_MF is non zero even if Count_MF is 0\n",
    "print(np.where([(client_products.Count_MF==0) & (client_products.ActBal_MF>0)]))\n",
    "# Checking if data contains rows where ActBal_OVD is non zero even if Count_OVD is 0\n",
    "print(np.where([(client_products.Count_OVD==0) & (client_products.ActBal_OVD>0)]))\n",
    "# Checking if data contains rows where ActBal_CC is non zero even if Count_CC is 0\n",
    "print(np.where([(client_products.Count_CC==0) & (client_products.ActBal_CC>0)]))\n",
    "# Checking if data contains rows where ActBal_CL is non zero even if Count_CL is 0\n",
    "print(np.where([(client_products.Count_CL==0) & (client_products.ActBal_CL>0)]))"
   ]
  },
  {
   "cell_type": "code",
   "execution_count": 22,
   "id": "b6b627b8",
   "metadata": {},
   "outputs": [
    {
     "data": {
      "text/plain": [
       "Index(['Client', 'Count_CA', 'Count_SA', 'Count_MF', 'Count_OVD', 'Count_CC',\n",
       "       'Count_CL', 'ActBal_CA', 'ActBal_SA', 'ActBal_MF', 'ActBal_OVD',\n",
       "       'ActBal_CC', 'ActBal_CL'],\n",
       "      dtype='object')"
      ]
     },
     "execution_count": 22,
     "metadata": {},
     "output_type": "execute_result"
    }
   ],
   "source": [
    "client_products.columns"
   ]
  },
  {
   "cell_type": "code",
   "execution_count": 23,
   "id": "5b8549cd",
   "metadata": {},
   "outputs": [
    {
     "name": "stdout",
     "output_type": "stream",
     "text": [
      "######### col =  ActBal_CA\n"
     ]
    },
    {
     "data": {
      "text/plain": [
       "count      1615.000000\n",
       "mean       2438.601941\n",
       "std        7072.777350\n",
       "min           0.000000\n",
       "0%            0.000000\n",
       "25%          61.562143\n",
       "50%         462.221786\n",
       "75%        2174.864286\n",
       "85%        3869.903500\n",
       "90%        5783.797000\n",
       "95%       10632.118250\n",
       "99%       30533.916400\n",
       "100%     171575.889643\n",
       "max      171575.889643\n",
       "Name: ActBal_CA, dtype: float64"
      ]
     },
     "metadata": {},
     "output_type": "display_data"
    },
    {
     "name": "stdout",
     "output_type": "stream",
     "text": [
      "Values greater than 99 percentile : (array([ 209,  229,  410,  454,  477,  632,  907,  999, 1102, 1128, 1150,\n",
      "       1343, 1367, 1405, 1407, 1409, 1413], dtype=int64),)\n",
      "Values greater than 95 percentile : (array([  18,   31,   32,   42,   81,  188,  205,  209,  214,  225,  229,\n",
      "        323,  333,  344,  371,  410,  423,  445,  448,  454,  471,  477,\n",
      "        632,  639,  648,  665,  673,  745,  752,  759,  763,  822,  871,\n",
      "        901,  907,  968,  978,  999, 1041, 1068, 1092, 1102, 1119, 1128,\n",
      "       1135, 1150, 1164, 1174, 1179, 1221, 1240, 1245, 1263, 1275, 1279,\n",
      "       1281, 1289, 1302, 1311, 1323, 1324, 1332, 1341, 1343, 1346, 1353,\n",
      "       1361, 1367, 1388, 1405, 1407, 1409, 1413, 1433, 1490, 1529, 1545,\n",
      "       1568, 1570, 1587, 1606], dtype=int64),)\n",
      "######### col =  ActBal_SA\n"
     ]
    },
    {
     "data": {
      "text/plain": [
       "count      1615.000000\n",
       "mean       4009.812781\n",
       "std       17909.061545\n",
       "min           0.000000\n",
       "0%            0.000000\n",
       "25%           0.000000\n",
       "50%           0.000000\n",
       "75%           0.010000\n",
       "85%        3586.747786\n",
       "90%        7184.512929\n",
       "95%       20632.692643\n",
       "99%       87753.734429\n",
       "100%     389883.830714\n",
       "max      389883.830714\n",
       "Name: ActBal_SA, dtype: float64"
      ]
     },
     "metadata": {},
     "output_type": "display_data"
    },
    {
     "name": "stdout",
     "output_type": "stream",
     "text": [
      "Values greater than 99 percentile : (array([  20,   82,  196,  218,  321,  351,  388,  534,  586,  600,  693,\n",
      "        850,  885,  950,  962, 1277, 1329], dtype=int64),)\n",
      "Values greater than 95 percentile : (array([  18,   20,   22,   44,   82,  103,  144,  150,  196,  205,  218,\n",
      "        242,  301,  318,  321,  339,  343,  351,  353,  381,  384,  388,\n",
      "        419,  452,  528,  534,  544,  565,  586,  591,  598,  600,  607,\n",
      "        608,  633,  667,  693,  700,  720,  726,  733,  781,  796,  812,\n",
      "        821,  850,  885,  894,  937,  941,  950,  962,  977,  989, 1029,\n",
      "       1035, 1043, 1075, 1111, 1156, 1167, 1169, 1177, 1219, 1226, 1261,\n",
      "       1277, 1329, 1361, 1366, 1385, 1395, 1402, 1409, 1412, 1418, 1486,\n",
      "       1521, 1528, 1533, 1548], dtype=int64),)\n",
      "######### col =  ActBal_MF\n"
     ]
    },
    {
     "data": {
      "text/plain": [
       "count      1615.000000\n",
       "mean       3887.532659\n",
       "std       34868.010169\n",
       "min           0.000000\n",
       "0%            0.000000\n",
       "25%           0.000000\n",
       "50%           0.000000\n",
       "75%           0.000000\n",
       "85%           0.000000\n",
       "90%        1140.613643\n",
       "95%       10443.760929\n",
       "99%       65547.554443\n",
       "100%     761235.504286\n",
       "max      761235.504286\n",
       "Name: ActBal_MF, dtype: float64"
      ]
     },
     "metadata": {},
     "output_type": "display_data"
    },
    {
     "name": "stdout",
     "output_type": "stream",
     "text": [
      "Values greater than 99 percentile : (array([  15,   52,  238,  275,  313,  323,  455,  542,  642,  677,  774,\n",
      "        781,  927, 1040, 1117, 1199, 1328], dtype=int64),)\n",
      "Values greater than 95 percentile : (array([  13,   15,   25,   47,   52,   72,   81,   95,  100,  117,  160,\n",
      "        218,  238,  267,  275,  280,  306,  310,  313,  323,  352,  378,\n",
      "        409,  455,  499,  524,  529,  542,  543,  546,  582,  599,  609,\n",
      "        628,  642,  665,  677,  680,  683,  698,  726,  731,  739,  745,\n",
      "        774,  775,  781,  786,  794,  801,  825,  845,  855,  881,  914,\n",
      "        927, 1034, 1040, 1043, 1063, 1096, 1100, 1117, 1131, 1132, 1171,\n",
      "       1187, 1191, 1199, 1225, 1234, 1241, 1290, 1323, 1328, 1410, 1424,\n",
      "       1475, 1514, 1568, 1600], dtype=int64),)\n",
      "######### col =  ActBal_OVD\n"
     ]
    },
    {
     "data": {
      "text/plain": [
       "count    1615.000000\n",
       "mean       32.806506\n",
       "std       157.926429\n",
       "min         0.000000\n",
       "0%          0.000000\n",
       "25%         0.000000\n",
       "50%         0.000000\n",
       "75%         0.000000\n",
       "85%         0.000000\n",
       "90%         0.000000\n",
       "95%       199.057000\n",
       "99%       788.243321\n",
       "100%     2055.325357\n",
       "max      2055.325357\n",
       "Name: ActBal_OVD, dtype: float64"
      ]
     },
     "metadata": {},
     "output_type": "display_data"
    },
    {
     "name": "stdout",
     "output_type": "stream",
     "text": [
      "Values greater than 99 percentile : (array([  40,  268,  336,  558,  746,  900, 1028, 1116, 1129, 1183, 1262,\n",
      "       1294, 1377, 1463, 1466, 1518, 1575], dtype=int64),)\n",
      "Values greater than 95 percentile : (array([   7,   22,   29,   40,   52,  126,  129,  165,  173,  210,  211,\n",
      "        215,  224,  233,  268,  302,  336,  345,  416,  431,  463,  505,\n",
      "        558,  562,  587,  596,  612,  656,  673,  712,  717,  720,  725,\n",
      "        746,  755,  804,  812,  845,  891,  900,  915,  956,  963, 1000,\n",
      "       1024, 1028, 1097, 1112, 1116, 1129, 1183, 1219, 1260, 1262, 1266,\n",
      "       1289, 1294, 1314, 1319, 1331, 1363, 1377, 1383, 1384, 1415, 1418,\n",
      "       1420, 1429, 1452, 1458, 1463, 1466, 1501, 1504, 1505, 1518, 1563,\n",
      "       1575, 1581, 1593, 1609], dtype=int64),)\n",
      "######### col =  ActBal_CC\n"
     ]
    },
    {
     "data": {
      "text/plain": [
       "count    1615.000000\n",
       "mean       36.978465\n",
       "std       190.869592\n",
       "min       -15.479286\n",
       "0%        -15.479286\n",
       "25%         0.000000\n",
       "50%         0.000000\n",
       "75%         0.000000\n",
       "85%         0.000000\n",
       "90%         0.000000\n",
       "95%       213.579893\n",
       "99%       991.200450\n",
       "100%     3522.233571\n",
       "max      3522.233571\n",
       "Name: ActBal_CC, dtype: float64"
      ]
     },
     "metadata": {},
     "output_type": "display_data"
    },
    {
     "name": "stdout",
     "output_type": "stream",
     "text": [
      "Values greater than 99 percentile : (array([   3,   17,  113,  213,  570,  601,  603,  762,  767,  795,  915,\n",
      "       1021, 1067, 1097, 1428, 1493, 1509], dtype=int64),)\n",
      "Values greater than 95 percentile : (array([   3,   17,   30,   33,   52,   65,   75,   99,  113,  138,  142,\n",
      "        199,  201,  209,  213,  252,  300,  302,  335,  375,  391,  400,\n",
      "        454,  478,  494,  560,  565,  567,  570,  601,  603,  606,  609,\n",
      "        612,  647,  675,  696,  755,  762,  767,  779,  790,  793,  795,\n",
      "        900,  909,  915,  923,  933,  948,  957,  985,  997, 1021, 1067,\n",
      "       1097, 1147, 1181, 1190, 1206, 1229, 1255, 1286, 1294, 1361, 1368,\n",
      "       1369, 1383, 1398, 1411, 1428, 1472, 1489, 1493, 1501, 1502, 1504,\n",
      "       1509, 1510, 1572, 1579], dtype=int64),)\n",
      "######### col =  ActBal_CL\n"
     ]
    },
    {
     "data": {
      "text/plain": [
       "count     1615.000000\n",
       "mean       354.230135\n",
       "std       1678.743095\n",
       "min          0.000000\n",
       "0%           0.000000\n",
       "25%          0.000000\n",
       "50%          0.000000\n",
       "75%          0.000000\n",
       "85%          0.000000\n",
       "90%          0.000000\n",
       "95%       2198.358179\n",
       "99%       9692.436414\n",
       "100%     20749.294643\n",
       "max      20749.294643\n",
       "Name: ActBal_CL, dtype: float64"
      ]
     },
     "metadata": {},
     "output_type": "display_data"
    },
    {
     "name": "stdout",
     "output_type": "stream",
     "text": [
      "Values greater than 99 percentile : (array([  13,   31,  112,  173,  174,  256,  341,  680,  913,  947, 1024,\n",
      "       1097, 1115, 1116, 1236, 1386, 1498], dtype=int64),)\n",
      "Values greater than 95 percentile : (array([  12,   13,   31,   53,   75,   94,  112,  133,  165,  173,  174,\n",
      "        185,  188,  198,  256,  303,  324,  341,  347,  390,  393,  410,\n",
      "        420,  486,  490,  493,  525,  565,  610,  650,  680,  695,  738,\n",
      "        743,  749,  755,  762,  793,  795,  808,  818,  870,  900,  908,\n",
      "        913,  933,  947, 1024, 1030, 1042, 1062, 1065, 1066, 1070, 1097,\n",
      "       1102, 1113, 1115, 1116, 1133, 1159, 1215, 1236, 1258, 1262, 1266,\n",
      "       1295, 1314, 1342, 1344, 1375, 1386, 1398, 1442, 1446, 1457, 1487,\n",
      "       1498, 1579, 1607, 1611], dtype=int64),)\n"
     ]
    }
   ],
   "source": [
    "columns = ['ActBal_CA', 'ActBal_SA', 'ActBal_MF', 'ActBal_OVD',\n",
    "       'ActBal_CC', 'ActBal_CL']\n",
    "\n",
    "for col in columns:\n",
    "    print(\"######### col = \",col)\n",
    "    desc = client_products[col].describe([0,0.25,0.5,0.75,0.85,0.9,0.95,0.99,1])\n",
    "    display(desc)\n",
    "    t_99 = desc['99%']\n",
    "    t_95 = desc['95%']\n",
    "    print(f\"Values greater than 99 percentile : {np.where(client_products[col]>t_99)}\")\n",
    "    print(f\"Values greater than 95 percentile : {np.where(client_products[col]>t_95)}\")\n",
    "#client_inflow_outflow.VolumeCred.describe([0,0.25,0.5,0.75,0.85,0.9,0.95,0.99,1])\n",
    "#bin_plot_barchart(client_inflow_outflow, 'VolumeCred', 0, 100,10, 'Age_Group')"
   ]
  },
  {
   "cell_type": "code",
   "execution_count": null,
   "id": "71206151",
   "metadata": {},
   "outputs": [],
   "source": []
  },
  {
   "cell_type": "code",
   "execution_count": null,
   "id": "fa3c8fca",
   "metadata": {},
   "outputs": [],
   "source": []
  },
  {
   "cell_type": "markdown",
   "id": "dd5f7da9",
   "metadata": {},
   "source": [
    "# client_inflow_outflow"
   ]
  },
  {
   "cell_type": "code",
   "execution_count": 24,
   "id": "820192f4",
   "metadata": {},
   "outputs": [
    {
     "data": {
      "text/html": [
       "<div>\n",
       "<style scoped>\n",
       "    .dataframe tbody tr th:only-of-type {\n",
       "        vertical-align: middle;\n",
       "    }\n",
       "\n",
       "    .dataframe tbody tr th {\n",
       "        vertical-align: top;\n",
       "    }\n",
       "\n",
       "    .dataframe thead th {\n",
       "        text-align: right;\n",
       "    }\n",
       "</style>\n",
       "<table border=\"1\" class=\"dataframe\">\n",
       "  <thead>\n",
       "    <tr style=\"text-align: right;\">\n",
       "      <th></th>\n",
       "      <th>Client</th>\n",
       "      <th>VolumeCred</th>\n",
       "      <th>VolumeCred_CA</th>\n",
       "      <th>TransactionsCred</th>\n",
       "      <th>TransactionsCred_CA</th>\n",
       "      <th>VolumeDeb</th>\n",
       "      <th>VolumeDeb_CA</th>\n",
       "      <th>VolumeDebCash_Card</th>\n",
       "      <th>VolumeDebCashless_Card</th>\n",
       "      <th>VolumeDeb_PaymentOrder</th>\n",
       "      <th>TransactionsDeb</th>\n",
       "      <th>TransactionsDeb_CA</th>\n",
       "      <th>TransactionsDebCash_Card</th>\n",
       "      <th>TransactionsDebCashless_Card</th>\n",
       "      <th>TransactionsDeb_PaymentOrder</th>\n",
       "    </tr>\n",
       "  </thead>\n",
       "  <tbody>\n",
       "    <tr>\n",
       "      <th>0</th>\n",
       "      <td>1017</td>\n",
       "      <td>0.005000</td>\n",
       "      <td>0.005000</td>\n",
       "      <td>1</td>\n",
       "      <td>1</td>\n",
       "      <td>118.046429</td>\n",
       "      <td>118.046429</td>\n",
       "      <td>25.000000</td>\n",
       "      <td>91.796429</td>\n",
       "      <td>0.000000</td>\n",
       "      <td>12</td>\n",
       "      <td>12</td>\n",
       "      <td>2</td>\n",
       "      <td>9</td>\n",
       "      <td>0</td>\n",
       "    </tr>\n",
       "    <tr>\n",
       "      <th>1</th>\n",
       "      <td>1456</td>\n",
       "      <td>364.772143</td>\n",
       "      <td>364.752857</td>\n",
       "      <td>4</td>\n",
       "      <td>3</td>\n",
       "      <td>774.980000</td>\n",
       "      <td>774.980000</td>\n",
       "      <td>14.285714</td>\n",
       "      <td>497.444286</td>\n",
       "      <td>258.607143</td>\n",
       "      <td>28</td>\n",
       "      <td>28</td>\n",
       "      <td>1</td>\n",
       "      <td>20</td>\n",
       "      <td>5</td>\n",
       "    </tr>\n",
       "    <tr>\n",
       "      <th>2</th>\n",
       "      <td>545</td>\n",
       "      <td>2471.719286</td>\n",
       "      <td>2471.719286</td>\n",
       "      <td>14</td>\n",
       "      <td>14</td>\n",
       "      <td>2190.257143</td>\n",
       "      <td>2190.257143</td>\n",
       "      <td>303.571429</td>\n",
       "      <td>179.082143</td>\n",
       "      <td>1229.428571</td>\n",
       "      <td>23</td>\n",
       "      <td>23</td>\n",
       "      <td>3</td>\n",
       "      <td>5</td>\n",
       "      <td>12</td>\n",
       "    </tr>\n",
       "    <tr>\n",
       "      <th>3</th>\n",
       "      <td>667</td>\n",
       "      <td>1127.792857</td>\n",
       "      <td>1127.792857</td>\n",
       "      <td>4</td>\n",
       "      <td>4</td>\n",
       "      <td>1344.603571</td>\n",
       "      <td>1344.603571</td>\n",
       "      <td>642.857143</td>\n",
       "      <td>194.285714</td>\n",
       "      <td>249.321429</td>\n",
       "      <td>21</td>\n",
       "      <td>21</td>\n",
       "      <td>3</td>\n",
       "      <td>4</td>\n",
       "      <td>8</td>\n",
       "    </tr>\n",
       "    <tr>\n",
       "      <th>4</th>\n",
       "      <td>1381</td>\n",
       "      <td>571.618214</td>\n",
       "      <td>571.618214</td>\n",
       "      <td>3</td>\n",
       "      <td>3</td>\n",
       "      <td>57.071429</td>\n",
       "      <td>57.071429</td>\n",
       "      <td>10.714286</td>\n",
       "      <td>46.357143</td>\n",
       "      <td>0.000000</td>\n",
       "      <td>6</td>\n",
       "      <td>6</td>\n",
       "      <td>1</td>\n",
       "      <td>5</td>\n",
       "      <td>0</td>\n",
       "    </tr>\n",
       "  </tbody>\n",
       "</table>\n",
       "</div>"
      ],
      "text/plain": [
       "   Client   VolumeCred  VolumeCred_CA  TransactionsCred  TransactionsCred_CA  \\\n",
       "0    1017     0.005000       0.005000                 1                    1   \n",
       "1    1456   364.772143     364.752857                 4                    3   \n",
       "2     545  2471.719286    2471.719286                14                   14   \n",
       "3     667  1127.792857    1127.792857                 4                    4   \n",
       "4    1381   571.618214     571.618214                 3                    3   \n",
       "\n",
       "     VolumeDeb  VolumeDeb_CA  VolumeDebCash_Card  VolumeDebCashless_Card  \\\n",
       "0   118.046429    118.046429           25.000000               91.796429   \n",
       "1   774.980000    774.980000           14.285714              497.444286   \n",
       "2  2190.257143   2190.257143          303.571429              179.082143   \n",
       "3  1344.603571   1344.603571          642.857143              194.285714   \n",
       "4    57.071429     57.071429           10.714286               46.357143   \n",
       "\n",
       "   VolumeDeb_PaymentOrder  TransactionsDeb  TransactionsDeb_CA  \\\n",
       "0                0.000000               12                  12   \n",
       "1              258.607143               28                  28   \n",
       "2             1229.428571               23                  23   \n",
       "3              249.321429               21                  21   \n",
       "4                0.000000                6                   6   \n",
       "\n",
       "   TransactionsDebCash_Card  TransactionsDebCashless_Card  \\\n",
       "0                         2                             9   \n",
       "1                         1                            20   \n",
       "2                         3                             5   \n",
       "3                         3                             4   \n",
       "4                         1                             5   \n",
       "\n",
       "   TransactionsDeb_PaymentOrder  \n",
       "0                             0  \n",
       "1                             5  \n",
       "2                            12  \n",
       "3                             8  \n",
       "4                             0  "
      ]
     },
     "execution_count": 24,
     "metadata": {},
     "output_type": "execute_result"
    }
   ],
   "source": [
    "client_inflow_outflow.head()"
   ]
  },
  {
   "cell_type": "code",
   "execution_count": 25,
   "id": "00ad20b3",
   "metadata": {},
   "outputs": [
    {
     "data": {
      "text/html": [
       "<div>\n",
       "<style scoped>\n",
       "    .dataframe tbody tr th:only-of-type {\n",
       "        vertical-align: middle;\n",
       "    }\n",
       "\n",
       "    .dataframe tbody tr th {\n",
       "        vertical-align: top;\n",
       "    }\n",
       "\n",
       "    .dataframe thead th {\n",
       "        text-align: right;\n",
       "    }\n",
       "</style>\n",
       "<table border=\"1\" class=\"dataframe\">\n",
       "  <thead>\n",
       "    <tr style=\"text-align: right;\">\n",
       "      <th></th>\n",
       "      <th>Client</th>\n",
       "      <th>VolumeCred</th>\n",
       "      <th>VolumeCred_CA</th>\n",
       "      <th>TransactionsCred</th>\n",
       "      <th>TransactionsCred_CA</th>\n",
       "      <th>VolumeDeb</th>\n",
       "      <th>VolumeDeb_CA</th>\n",
       "      <th>VolumeDebCash_Card</th>\n",
       "      <th>VolumeDebCashless_Card</th>\n",
       "      <th>VolumeDeb_PaymentOrder</th>\n",
       "      <th>TransactionsDeb</th>\n",
       "      <th>TransactionsDeb_CA</th>\n",
       "      <th>TransactionsDebCash_Card</th>\n",
       "      <th>TransactionsDebCashless_Card</th>\n",
       "      <th>TransactionsDeb_PaymentOrder</th>\n",
       "    </tr>\n",
       "  </thead>\n",
       "  <tbody>\n",
       "    <tr>\n",
       "      <th>count</th>\n",
       "      <td>1587.000000</td>\n",
       "      <td>1587.000000</td>\n",
       "      <td>1587.000000</td>\n",
       "      <td>1587.000000</td>\n",
       "      <td>1587.000000</td>\n",
       "      <td>1587.000000</td>\n",
       "      <td>1587.000000</td>\n",
       "      <td>1587.000000</td>\n",
       "      <td>1587.000000</td>\n",
       "      <td>1587.000000</td>\n",
       "      <td>1587.000000</td>\n",
       "      <td>1587.000000</td>\n",
       "      <td>1587.000000</td>\n",
       "      <td>1587.000000</td>\n",
       "      <td>1587.000000</td>\n",
       "    </tr>\n",
       "    <tr>\n",
       "      <th>mean</th>\n",
       "      <td>808.174543</td>\n",
       "      <td>1823.559572</td>\n",
       "      <td>1506.329113</td>\n",
       "      <td>5.541903</td>\n",
       "      <td>4.265280</td>\n",
       "      <td>1697.218658</td>\n",
       "      <td>1460.202903</td>\n",
       "      <td>257.937337</td>\n",
       "      <td>150.850401</td>\n",
       "      <td>715.974931</td>\n",
       "      <td>16.006931</td>\n",
       "      <td>13.596723</td>\n",
       "      <td>1.988658</td>\n",
       "      <td>5.240076</td>\n",
       "      <td>4.601134</td>\n",
       "    </tr>\n",
       "    <tr>\n",
       "      <th>std</th>\n",
       "      <td>466.744374</td>\n",
       "      <td>5864.792552</td>\n",
       "      <td>4661.535696</td>\n",
       "      <td>6.355383</td>\n",
       "      <td>4.944032</td>\n",
       "      <td>5183.787844</td>\n",
       "      <td>4281.369956</td>\n",
       "      <td>757.734230</td>\n",
       "      <td>311.938796</td>\n",
       "      <td>3215.106760</td>\n",
       "      <td>16.243554</td>\n",
       "      <td>12.975287</td>\n",
       "      <td>2.710704</td>\n",
       "      <td>8.386154</td>\n",
       "      <td>5.211451</td>\n",
       "    </tr>\n",
       "    <tr>\n",
       "      <th>min</th>\n",
       "      <td>1.000000</td>\n",
       "      <td>0.000000</td>\n",
       "      <td>0.000000</td>\n",
       "      <td>0.000000</td>\n",
       "      <td>0.000000</td>\n",
       "      <td>0.000000</td>\n",
       "      <td>0.000000</td>\n",
       "      <td>0.000000</td>\n",
       "      <td>0.000000</td>\n",
       "      <td>0.000000</td>\n",
       "      <td>0.000000</td>\n",
       "      <td>0.000000</td>\n",
       "      <td>0.000000</td>\n",
       "      <td>0.000000</td>\n",
       "      <td>0.000000</td>\n",
       "    </tr>\n",
       "    <tr>\n",
       "      <th>25%</th>\n",
       "      <td>405.500000</td>\n",
       "      <td>252.923393</td>\n",
       "      <td>214.290893</td>\n",
       "      <td>2.000000</td>\n",
       "      <td>2.000000</td>\n",
       "      <td>226.214286</td>\n",
       "      <td>211.848750</td>\n",
       "      <td>0.000000</td>\n",
       "      <td>0.000000</td>\n",
       "      <td>0.000000</td>\n",
       "      <td>4.000000</td>\n",
       "      <td>4.000000</td>\n",
       "      <td>0.000000</td>\n",
       "      <td>0.000000</td>\n",
       "      <td>0.000000</td>\n",
       "    </tr>\n",
       "    <tr>\n",
       "      <th>50%</th>\n",
       "      <td>808.000000</td>\n",
       "      <td>655.867500</td>\n",
       "      <td>620.858214</td>\n",
       "      <td>3.000000</td>\n",
       "      <td>3.000000</td>\n",
       "      <td>654.615357</td>\n",
       "      <td>632.148929</td>\n",
       "      <td>71.428571</td>\n",
       "      <td>20.139286</td>\n",
       "      <td>175.428571</td>\n",
       "      <td>11.000000</td>\n",
       "      <td>10.000000</td>\n",
       "      <td>1.000000</td>\n",
       "      <td>1.000000</td>\n",
       "      <td>3.000000</td>\n",
       "    </tr>\n",
       "    <tr>\n",
       "      <th>75%</th>\n",
       "      <td>1213.500000</td>\n",
       "      <td>1426.027143</td>\n",
       "      <td>1304.757143</td>\n",
       "      <td>6.000000</td>\n",
       "      <td>4.000000</td>\n",
       "      <td>1418.208214</td>\n",
       "      <td>1329.007857</td>\n",
       "      <td>353.370536</td>\n",
       "      <td>175.892500</td>\n",
       "      <td>507.607143</td>\n",
       "      <td>22.000000</td>\n",
       "      <td>19.000000</td>\n",
       "      <td>3.000000</td>\n",
       "      <td>7.000000</td>\n",
       "      <td>7.000000</td>\n",
       "    </tr>\n",
       "    <tr>\n",
       "      <th>max</th>\n",
       "      <td>1615.000000</td>\n",
       "      <td>107703.804286</td>\n",
       "      <td>98717.675000</td>\n",
       "      <td>63.000000</td>\n",
       "      <td>48.000000</td>\n",
       "      <td>119906.503929</td>\n",
       "      <td>73477.932500</td>\n",
       "      <td>23571.428571</td>\n",
       "      <td>3637.616786</td>\n",
       "      <td>72278.782143</td>\n",
       "      <td>102.000000</td>\n",
       "      <td>83.000000</td>\n",
       "      <td>25.000000</td>\n",
       "      <td>60.000000</td>\n",
       "      <td>34.000000</td>\n",
       "    </tr>\n",
       "  </tbody>\n",
       "</table>\n",
       "</div>"
      ],
      "text/plain": [
       "            Client     VolumeCred  VolumeCred_CA  TransactionsCred  \\\n",
       "count  1587.000000    1587.000000    1587.000000       1587.000000   \n",
       "mean    808.174543    1823.559572    1506.329113          5.541903   \n",
       "std     466.744374    5864.792552    4661.535696          6.355383   \n",
       "min       1.000000       0.000000       0.000000          0.000000   \n",
       "25%     405.500000     252.923393     214.290893          2.000000   \n",
       "50%     808.000000     655.867500     620.858214          3.000000   \n",
       "75%    1213.500000    1426.027143    1304.757143          6.000000   \n",
       "max    1615.000000  107703.804286   98717.675000         63.000000   \n",
       "\n",
       "       TransactionsCred_CA      VolumeDeb  VolumeDeb_CA  VolumeDebCash_Card  \\\n",
       "count          1587.000000    1587.000000   1587.000000         1587.000000   \n",
       "mean              4.265280    1697.218658   1460.202903          257.937337   \n",
       "std               4.944032    5183.787844   4281.369956          757.734230   \n",
       "min               0.000000       0.000000      0.000000            0.000000   \n",
       "25%               2.000000     226.214286    211.848750            0.000000   \n",
       "50%               3.000000     654.615357    632.148929           71.428571   \n",
       "75%               4.000000    1418.208214   1329.007857          353.370536   \n",
       "max              48.000000  119906.503929  73477.932500        23571.428571   \n",
       "\n",
       "       VolumeDebCashless_Card  VolumeDeb_PaymentOrder  TransactionsDeb  \\\n",
       "count             1587.000000             1587.000000      1587.000000   \n",
       "mean               150.850401              715.974931        16.006931   \n",
       "std                311.938796             3215.106760        16.243554   \n",
       "min                  0.000000                0.000000         0.000000   \n",
       "25%                  0.000000                0.000000         4.000000   \n",
       "50%                 20.139286              175.428571        11.000000   \n",
       "75%                175.892500              507.607143        22.000000   \n",
       "max               3637.616786            72278.782143       102.000000   \n",
       "\n",
       "       TransactionsDeb_CA  TransactionsDebCash_Card  \\\n",
       "count         1587.000000               1587.000000   \n",
       "mean            13.596723                  1.988658   \n",
       "std             12.975287                  2.710704   \n",
       "min              0.000000                  0.000000   \n",
       "25%              4.000000                  0.000000   \n",
       "50%             10.000000                  1.000000   \n",
       "75%             19.000000                  3.000000   \n",
       "max             83.000000                 25.000000   \n",
       "\n",
       "       TransactionsDebCashless_Card  TransactionsDeb_PaymentOrder  \n",
       "count                   1587.000000                   1587.000000  \n",
       "mean                       5.240076                      4.601134  \n",
       "std                        8.386154                      5.211451  \n",
       "min                        0.000000                      0.000000  \n",
       "25%                        0.000000                      0.000000  \n",
       "50%                        1.000000                      3.000000  \n",
       "75%                        7.000000                      7.000000  \n",
       "max                       60.000000                     34.000000  "
      ]
     },
     "execution_count": 25,
     "metadata": {},
     "output_type": "execute_result"
    }
   ],
   "source": [
    "client_inflow_outflow.describe()"
   ]
  },
  {
   "cell_type": "code",
   "execution_count": 26,
   "id": "e758adea",
   "metadata": {},
   "outputs": [],
   "source": [
    "def sanity_check(col_volume, col_transactions):\n",
    "    errors = np.where((client_inflow_outflow[col_transactions]==0) & (client_inflow_outflow[col_volume] >0))[0] + np.where((client_inflow_outflow[col_transactions]>0) & (client_inflow_outflow[col_volume] ==0))[0]\n",
    "    return(errors)    "
   ]
  },
  {
   "cell_type": "code",
   "execution_count": 27,
   "id": "40416bf7",
   "metadata": {},
   "outputs": [
    {
     "data": {
      "text/plain": [
       "Index(['Client', 'VolumeCred', 'VolumeCred_CA', 'TransactionsCred',\n",
       "       'TransactionsCred_CA', 'VolumeDeb', 'VolumeDeb_CA',\n",
       "       'VolumeDebCash_Card', 'VolumeDebCashless_Card',\n",
       "       'VolumeDeb_PaymentOrder', 'TransactionsDeb', 'TransactionsDeb_CA',\n",
       "       'TransactionsDebCash_Card', 'TransactionsDebCashless_Card',\n",
       "       'TransactionsDeb_PaymentOrder'],\n",
       "      dtype='object')"
      ]
     },
     "execution_count": 27,
     "metadata": {},
     "output_type": "execute_result"
    }
   ],
   "source": [
    "client_inflow_outflow.columns"
   ]
  },
  {
   "cell_type": "code",
   "execution_count": 28,
   "id": "d6de6e2f",
   "metadata": {},
   "outputs": [
    {
     "name": "stdout",
     "output_type": "stream",
     "text": [
      "Sanity check for VolumeCred_CA and TransactionsCred_CA : []\n",
      "Sanity check for VolumeDeb and TransactionsDeb : []\n",
      "Sanity check for VolumeDeb_CA and TransactionsDeb_CA : []\n",
      "Sanity check for VolumeDebCash_Card and TransactionsDebCash_Card : []\n",
      "Sanity check for VolumeDebCashless_Card and TransactionsDebCashless_Card : []\n",
      "Sanity check for VolumeDeb_PaymentOrder and TransactionsDeb_PaymentOrder : []\n"
     ]
    }
   ],
   "source": [
    "vol_cols = ['VolumeCred_CA', 'VolumeDeb', 'VolumeDeb_CA','VolumeDebCash_Card', 'VolumeDebCashless_Card','VolumeDeb_PaymentOrder']\n",
    "trans_cols = ['TransactionsCred_CA', 'TransactionsDeb', 'TransactionsDeb_CA','TransactionsDebCash_Card', 'TransactionsDebCashless_Card','TransactionsDeb_PaymentOrder']\n",
    "\n",
    "for vol, trans in zip(vol_cols,trans_cols):\n",
    "    print(f\"Sanity check for {vol} and {trans} : {sanity_check(vol, trans)}\")\n",
    "    \n",
    "    "
   ]
  },
  {
   "cell_type": "code",
   "execution_count": 29,
   "id": "44004302",
   "metadata": {},
   "outputs": [
    {
     "name": "stdout",
     "output_type": "stream",
     "text": [
      "######### col =  VolumeCred\n"
     ]
    },
    {
     "data": {
      "text/plain": [
       "count      1587.000000\n",
       "mean       1823.559572\n",
       "std        5864.792552\n",
       "min           0.000000\n",
       "0%            0.000000\n",
       "25%         252.923393\n",
       "50%         655.867500\n",
       "75%        1426.027143\n",
       "85%        2173.207250\n",
       "90%        3221.782214\n",
       "95%        6020.479429\n",
       "99%       20792.869214\n",
       "100%     107703.804286\n",
       "max      107703.804286\n",
       "Name: VolumeCred, dtype: float64"
      ]
     },
     "metadata": {},
     "output_type": "display_data"
    },
    {
     "name": "stdout",
     "output_type": "stream",
     "text": [
      "Values greater than 99 percentile : (array([  65,  112,  157,  621,  636,  746,  766,  768,  972, 1066, 1130,\n",
      "       1184, 1382, 1413, 1443, 1550], dtype=int64),)\n",
      "Values greater than 95 percentile : (array([  65,  112,  157,  162,  192,  204,  300,  336,  348,  403,  412,\n",
      "        413,  466,  477,  493,  506,  531,  568,  592,  603,  619,  621,\n",
      "        636,  650,  682,  729,  742,  746,  753,  765,  766,  768,  770,\n",
      "        788,  790,  857,  870,  873,  890,  893,  898,  916,  951,  972,\n",
      "       1011, 1038, 1049, 1056, 1066, 1070, 1078, 1086, 1127, 1130, 1138,\n",
      "       1145, 1159, 1184, 1198, 1202, 1234, 1255, 1256, 1258, 1272, 1323,\n",
      "       1343, 1382, 1387, 1393, 1413, 1443, 1454, 1475, 1489, 1496, 1524,\n",
      "       1529, 1550, 1572], dtype=int64),)\n",
      "######### col =  VolumeCred_CA\n"
     ]
    },
    {
     "data": {
      "text/plain": [
       "count     1587.000000\n",
       "mean      1506.329113\n",
       "std       4661.535696\n",
       "min          0.000000\n",
       "0%           0.000000\n",
       "25%        214.290893\n",
       "50%        620.858214\n",
       "75%       1304.757143\n",
       "85%       1901.816500\n",
       "90%       2502.676643\n",
       "95%       4652.542536\n",
       "99%      18215.890007\n",
       "100%     98717.675000\n",
       "max      98717.675000\n",
       "Name: VolumeCred_CA, dtype: float64"
      ]
     },
     "metadata": {},
     "output_type": "display_data"
    },
    {
     "name": "stdout",
     "output_type": "stream",
     "text": [
      "Values greater than 99 percentile : (array([  65,  112,  619,  621,  636,  746,  753,  766,  768, 1066, 1127,\n",
      "       1159, 1184, 1258, 1382, 1443], dtype=int64),)\n",
      "Values greater than 95 percentile : (array([  65,  112,  162,  192,  204,  300,  313,  336,  348,  349,  451,\n",
      "        466,  477,  493,  506,  515,  568,  592,  603,  619,  621,  636,\n",
      "        670,  682,  729,  742,  746,  753,  766,  768,  770,  788,  790,\n",
      "        857,  870,  873,  893,  898,  916,  951,  969,  972, 1038, 1041,\n",
      "       1056, 1066, 1070, 1078, 1101, 1127, 1130, 1138, 1145, 1159, 1184,\n",
      "       1198, 1202, 1234, 1255, 1256, 1258, 1272, 1323, 1343, 1346, 1347,\n",
      "       1382, 1387, 1393, 1413, 1417, 1419, 1443, 1454, 1475, 1496, 1524,\n",
      "       1529, 1550, 1572], dtype=int64),)\n",
      "######### col =  TransactionsCred\n"
     ]
    },
    {
     "data": {
      "text/plain": [
       "count    1587.000000\n",
       "mean        5.541903\n",
       "std         6.355383\n",
       "min         0.000000\n",
       "0%          0.000000\n",
       "25%         2.000000\n",
       "50%         3.000000\n",
       "75%         6.000000\n",
       "85%         9.000000\n",
       "90%        12.000000\n",
       "95%        19.000000\n",
       "99%        31.140000\n",
       "100%       63.000000\n",
       "max        63.000000\n",
       "Name: TransactionsCred, dtype: float64"
      ]
     },
     "metadata": {},
     "output_type": "display_data"
    },
    {
     "name": "stdout",
     "output_type": "stream",
     "text": [
      "Values greater than 99 percentile : (array([  25,   65,  102,  217,  245,  292,  387,  412,  413,  747,  789,\n",
      "       1009, 1011, 1166, 1198, 1256], dtype=int64),)\n",
      "Values greater than 95 percentile : (array([  23,   25,   39,   58,   65,  102,  110,  119,  163,  165,  182,\n",
      "        184,  192,  204,  217,  245,  292,  309,  312,  350,  351,  371,\n",
      "        387,  399,  412,  413,  477,  484,  512,  549,  552,  577,  637,\n",
      "        664,  666,  681,  687,  708,  745,  747,  760,  769,  779,  784,\n",
      "        789,  813,  889,  894,  996, 1009, 1011, 1016, 1049, 1078, 1102,\n",
      "       1161, 1166, 1195, 1197, 1198, 1205, 1215, 1219, 1225, 1240, 1241,\n",
      "       1243, 1256, 1298, 1309, 1334, 1382, 1402, 1436, 1488, 1489, 1522],\n",
      "      dtype=int64),)\n",
      "######### col =  TransactionsCred_CA\n"
     ]
    },
    {
     "data": {
      "text/plain": [
       "count    1587.000000\n",
       "mean        4.265280\n",
       "std         4.944032\n",
       "min         0.000000\n",
       "0%          0.000000\n",
       "25%         2.000000\n",
       "50%         3.000000\n",
       "75%         4.000000\n",
       "85%         6.000000\n",
       "90%         8.000000\n",
       "95%        14.000000\n",
       "99%        27.140000\n",
       "100%       48.000000\n",
       "max        48.000000\n",
       "Name: TransactionsCred_CA, dtype: float64"
      ]
     },
     "metadata": {},
     "output_type": "display_data"
    },
    {
     "name": "stdout",
     "output_type": "stream",
     "text": [
      "Values greater than 99 percentile : (array([  25,   65,  102,  192,  217,  245,  387,  413,  687,  747,  789,\n",
      "        889, 1009, 1011, 1166, 1198], dtype=int64),)\n",
      "Values greater than 95 percentile : (array([  23,   25,   39,   58,   65,  102,  110,  119,  163,  182,  184,\n",
      "        192,  217,  245,  292,  312,  350,  358,  371,  387,  412,  413,\n",
      "        477,  512,  549,  552,  577,  637,  666,  687,  708,  745,  747,\n",
      "        754,  760,  769,  779,  784,  789,  813,  889,  894,  996, 1009,\n",
      "       1011, 1016, 1049, 1078, 1102, 1106, 1161, 1166, 1197, 1198, 1205,\n",
      "       1215, 1219, 1225, 1241, 1256, 1298, 1299, 1309, 1334, 1382, 1402,\n",
      "       1436, 1483, 1488, 1522, 1564, 1579], dtype=int64),)\n",
      "######### col =  VolumeDeb\n"
     ]
    },
    {
     "data": {
      "text/plain": [
       "count      1587.000000\n",
       "mean       1697.218658\n",
       "std        5183.787844\n",
       "min           0.000000\n",
       "0%            0.000000\n",
       "25%         226.214286\n",
       "50%         654.615357\n",
       "75%        1418.208214\n",
       "85%        2208.215679\n",
       "90%        3047.306143\n",
       "95%        5683.105357\n",
       "99%       20281.948071\n",
       "100%     119906.503929\n",
       "max      119906.503929\n",
       "Name: VolumeDeb, dtype: float64"
      ]
     },
     "metadata": {},
     "output_type": "display_data"
    },
    {
     "name": "stdout",
     "output_type": "stream",
     "text": [
      "Values greater than 99 percentile : (array([  65,  157,  192,  329,  636,  746,  766,  768,  857,  928,  972,\n",
      "       1066, 1159, 1184, 1443, 1550], dtype=int64),)\n",
      "Values greater than 95 percentile : (array([  62,   65,   97,  102,  112,  157,  162,  192,  204,  208,  237,\n",
      "        300,  313,  329,  336,  348,  390,  403,  412,  413,  447,  466,\n",
      "        501,  506,  531,  568,  592,  619,  636,  650,  664,  682,  729,\n",
      "        742,  746,  753,  766,  768,  770,  776,  788,  824,  857,  890,\n",
      "        893,  898,  928,  951,  972, 1011, 1049, 1066, 1070, 1078, 1101,\n",
      "       1127, 1130, 1159, 1184, 1198, 1202, 1211, 1234, 1256, 1258, 1323,\n",
      "       1346, 1387, 1413, 1419, 1443, 1486, 1489, 1496, 1514, 1520, 1524,\n",
      "       1529, 1550, 1572], dtype=int64),)\n",
      "######### col =  VolumeDeb_CA\n"
     ]
    },
    {
     "data": {
      "text/plain": [
       "count     1587.000000\n",
       "mean      1460.202903\n",
       "std       4281.369956\n",
       "min          0.000000\n",
       "0%           0.000000\n",
       "25%        211.848750\n",
       "50%        632.148929\n",
       "75%       1329.007857\n",
       "85%       1919.815000\n",
       "90%       2455.894214\n",
       "95%       4230.807929\n",
       "99%      16305.906464\n",
       "100%     73477.932500\n",
       "max      73477.932500\n",
       "Name: VolumeDeb_CA, dtype: float64"
      ]
     },
     "metadata": {},
     "output_type": "display_data"
    },
    {
     "name": "stdout",
     "output_type": "stream",
     "text": [
      "Values greater than 99 percentile : (array([  65,  157,  192,  329,  636,  746,  766,  768, 1066, 1078, 1127,\n",
      "       1159, 1184, 1258, 1443, 1550], dtype=int64),)\n",
      "Values greater than 95 percentile : (array([  62,   65,   97,  102,  112,  157,  162,  192,  204,  208,  237,\n",
      "        300,  313,  314,  315,  329,  340,  348,  352,  390,  403,  447,\n",
      "        466,  501,  506,  515,  531,  568,  592,  619,  636,  670,  682,\n",
      "        729,  742,  746,  753,  766,  768,  776,  788,  824,  828,  857,\n",
      "        892,  893,  898,  951,  972, 1066, 1070, 1078, 1101, 1127, 1130,\n",
      "       1141, 1145, 1159, 1184, 1198, 1202, 1234, 1256, 1258, 1268, 1323,\n",
      "       1346, 1382, 1387, 1419, 1443, 1486, 1489, 1496, 1514, 1520, 1524,\n",
      "       1529, 1550, 1572], dtype=int64),)\n",
      "######### col =  VolumeDebCash_Card\n"
     ]
    },
    {
     "data": {
      "text/plain": [
       "count     1587.000000\n",
       "mean       257.937337\n",
       "std        757.734230\n",
       "min          0.000000\n",
       "0%           0.000000\n",
       "25%          0.000000\n",
       "50%         71.428571\n",
       "75%        353.370536\n",
       "85%        521.428571\n",
       "90%        642.857143\n",
       "95%        864.642857\n",
       "99%       1790.714286\n",
       "100%     23571.428571\n",
       "max      23571.428571\n",
       "Name: VolumeDebCash_Card, dtype: float64"
      ]
     },
     "metadata": {},
     "output_type": "display_data"
    },
    {
     "name": "stdout",
     "output_type": "stream",
     "text": [
      "Values greater than 99 percentile : (array([  62,   97,  192,  229,  501,  568,  584,  850,  972, 1037, 1066,\n",
      "       1070, 1202, 1475, 1533, 1556], dtype=int64),)\n",
      "Values greater than 95 percentile : (array([  25,   62,   65,   97,  102,  137,  162,  184,  192,  197,  200,\n",
      "        219,  229,  248,  258,  300,  303,  309,  314,  341,  348,  415,\n",
      "        416,  451,  475,  490,  501,  568,  584,  592,  670,  673,  732,\n",
      "        739,  753,  754,  768,  776,  824,  829,  838,  850,  906,  951,\n",
      "        971,  972, 1014, 1037, 1049, 1066, 1070, 1076, 1125, 1141, 1199,\n",
      "       1201, 1202, 1216, 1268, 1276, 1310, 1312, 1333, 1340, 1360, 1379,\n",
      "       1391, 1419, 1431, 1446, 1455, 1475, 1495, 1510, 1529, 1533, 1543,\n",
      "       1556, 1558, 1570], dtype=int64),)\n",
      "######### col =  VolumeDebCashless_Card\n"
     ]
    },
    {
     "data": {
      "text/plain": [
       "count    1587.000000\n",
       "mean      150.850401\n",
       "std       311.938796\n",
       "min         0.000000\n",
       "0%          0.000000\n",
       "25%         0.000000\n",
       "50%        20.139286\n",
       "75%       175.892500\n",
       "85%       311.116929\n",
       "90%       429.915929\n",
       "95%       672.805571\n",
       "99%      1385.365357\n",
       "100%     3637.616786\n",
       "max      3637.616786\n",
       "Name: VolumeDebCashless_Card, dtype: float64"
      ]
     },
     "metadata": {},
     "output_type": "display_data"
    },
    {
     "name": "stdout",
     "output_type": "stream",
     "text": [
      "Values greater than 99 percentile : (array([  41,   62,   97,  162,  192,  233,  300,  348,  406,  913, 1078,\n",
      "       1141, 1159, 1198, 1496, 1547], dtype=int64),)\n",
      "Values greater than 95 percentile : (array([  41,   50,   62,   72,   95,   97,  102,  162,  192,  198,  233,\n",
      "        237,  282,  300,  329,  348,  387,  390,  399,  406,  443,  451,\n",
      "        478,  557,  605,  664,  702,  747,  767,  772,  801,  824,  839,\n",
      "        842,  887,  913,  968, 1049, 1062, 1078, 1096, 1127, 1130, 1141,\n",
      "       1155, 1159, 1161, 1167, 1198, 1234, 1251, 1268, 1283, 1292, 1311,\n",
      "       1376, 1383, 1387, 1391, 1409, 1412, 1416, 1417, 1418, 1419, 1421,\n",
      "       1427, 1465, 1478, 1489, 1492, 1493, 1496, 1498, 1504, 1529, 1547,\n",
      "       1572, 1575, 1578], dtype=int64),)\n",
      "######### col =  VolumeDeb_PaymentOrder\n"
     ]
    },
    {
     "data": {
      "text/plain": [
       "count     1587.000000\n",
       "mean       715.974931\n",
       "std       3215.106760\n",
       "min          0.000000\n",
       "0%           0.000000\n",
       "25%          0.000000\n",
       "50%        175.428571\n",
       "75%        507.607143\n",
       "85%        826.037286\n",
       "90%       1123.592857\n",
       "95%       2184.289286\n",
       "99%      12470.028650\n",
       "100%     72278.782143\n",
       "max      72278.782143\n",
       "Name: VolumeDeb_PaymentOrder, dtype: float64"
      ]
     },
     "metadata": {},
     "output_type": "display_data"
    },
    {
     "name": "stdout",
     "output_type": "stream",
     "text": [
      "Values greater than 99 percentile : (array([ 112,  157,  192,  204,  329,  636,  766,  768, 1066, 1078, 1127,\n",
      "       1159, 1234, 1258, 1323, 1550], dtype=int64),)\n",
      "Values greater than 95 percentile : (array([  26,   65,   73,  112,  153,  157,  162,  192,  204,  236,  300,\n",
      "        308,  313,  314,  315,  329,  336,  340,  348,  403,  447,  466,\n",
      "        475,  506,  507,  515,  531,  636,  670,  682,  729,  753,  756,\n",
      "        766,  768,  776,  782,  824,  828,  837,  857,  873,  893,  898,\n",
      "        916,  949, 1066, 1070, 1074, 1078, 1088, 1101, 1127, 1129, 1145,\n",
      "       1159, 1184, 1202, 1211, 1234, 1237, 1248, 1255, 1256, 1258, 1268,\n",
      "       1323, 1346, 1349, 1382, 1387, 1419, 1443, 1446, 1461, 1520, 1529,\n",
      "       1550, 1568, 1572], dtype=int64),)\n",
      "######### col =  TransactionsDeb\n"
     ]
    },
    {
     "data": {
      "text/plain": [
       "count    1587.000000\n",
       "mean       16.006931\n",
       "std        16.243554\n",
       "min         0.000000\n",
       "0%          0.000000\n",
       "25%         4.000000\n",
       "50%        11.000000\n",
       "75%        22.000000\n",
       "85%        31.100000\n",
       "90%        38.000000\n",
       "95%        48.700000\n",
       "99%        75.140000\n",
       "100%      102.000000\n",
       "max       102.000000\n",
       "Name: TransactionsDeb, dtype: float64"
      ]
     },
     "metadata": {},
     "output_type": "display_data"
    },
    {
     "name": "stdout",
     "output_type": "stream",
     "text": [
      "Values greater than 99 percentile : (array([  25,   84,  102,  192,  245,  283,  387,  413,  747, 1011, 1049,\n",
      "       1161, 1166, 1198, 1234, 1487], dtype=int64),)\n",
      "Values greater than 95 percentile : (array([  23,   25,   28,   35,   72,   84,  102,  163,  192,  217,  233,\n",
      "        245,  283,  292,  300,  309,  348,  387,  399,  406,  412,  413,\n",
      "        524,  526,  549,  563,  636,  637,  687,  742,  745,  747,  769,\n",
      "        772,  779,  784,  788,  789,  792,  813,  824,  936,  981,  993,\n",
      "       1009, 1011, 1016, 1049, 1066, 1070, 1078, 1127, 1155, 1159, 1161,\n",
      "       1166, 1196, 1198, 1219, 1226, 1234, 1241, 1243, 1251, 1256, 1268,\n",
      "       1273, 1298, 1376, 1387, 1391, 1402, 1418, 1419, 1429, 1436, 1478,\n",
      "       1487, 1496, 1529], dtype=int64),)\n",
      "######### col =  TransactionsDeb_CA\n"
     ]
    },
    {
     "data": {
      "text/plain": [
       "count    1587.000000\n",
       "mean       13.596723\n",
       "std        12.975287\n",
       "min         0.000000\n",
       "0%          0.000000\n",
       "25%         4.000000\n",
       "50%        10.000000\n",
       "75%        19.000000\n",
       "85%        25.000000\n",
       "90%        31.000000\n",
       "95%        39.000000\n",
       "99%        61.280000\n",
       "100%       83.000000\n",
       "max        83.000000\n",
       "Name: TransactionsDeb_CA, dtype: float64"
      ]
     },
     "metadata": {},
     "output_type": "display_data"
    },
    {
     "name": "stdout",
     "output_type": "stream",
     "text": [
      "Values greater than 99 percentile : (array([  25,   84,  192,  233,  245,  283,  300,  747,  936, 1066, 1070,\n",
      "       1155, 1159, 1196, 1268, 1478], dtype=int64),)\n",
      "Values greater than 95 percentile : (array([  25,   28,   35,   62,   65,   84,  102,  192,  219,  233,  245,\n",
      "        281,  283,  300,  309,  387,  406,  413,  458,  519,  526,  563,\n",
      "        636,  664,  687,  732,  747,  772,  779,  792,  824,  936,  981,\n",
      "        993, 1005, 1009, 1016, 1062, 1066, 1070, 1071, 1078, 1127, 1141,\n",
      "       1155, 1159, 1161, 1166, 1187, 1196, 1198, 1226, 1243, 1251, 1268,\n",
      "       1273, 1283, 1285, 1360, 1376, 1387, 1391, 1402, 1409, 1412, 1418,\n",
      "       1427, 1429, 1465, 1478, 1493, 1508, 1513], dtype=int64),)\n",
      "######### col =  TransactionsDebCash_Card\n"
     ]
    },
    {
     "data": {
      "text/plain": [
       "count    1587.000000\n",
       "mean        1.988658\n",
       "std         2.710704\n",
       "min         0.000000\n",
       "0%          0.000000\n",
       "25%         0.000000\n",
       "50%         1.000000\n",
       "75%         3.000000\n",
       "85%         4.000000\n",
       "90%         6.000000\n",
       "95%         7.000000\n",
       "99%        12.000000\n",
       "100%       25.000000\n",
       "max        25.000000\n",
       "Name: TransactionsDebCash_Card, dtype: float64"
      ]
     },
     "metadata": {},
     "output_type": "display_data"
    },
    {
     "name": "stdout",
     "output_type": "stream",
     "text": [
      "Values greater than 99 percentile : (array([  32,   84,  170,  214,  219,  283,  807,  838, 1070, 1097, 1556],\n",
      "      dtype=int64),)\n",
      "Values greater than 95 percentile : (array([  28,   29,   32,   62,   67,   84,   92,  115,  118,  142,  149,\n",
      "        170,  214,  219,  245,  281,  283,  300,  309,  348,  446,  501,\n",
      "        563,  564,  575,  632,  641,  732,  747,  759,  772,  807,  824,\n",
      "        838,  868,  877,  901,  931,  938,  946,  979,  981,  993, 1001,\n",
      "       1009, 1066, 1069, 1070, 1097, 1098, 1155, 1166, 1193, 1196, 1212,\n",
      "       1226, 1252, 1268, 1273, 1310, 1360, 1376, 1436, 1437, 1508, 1522,\n",
      "       1556, 1558], dtype=int64),)\n",
      "######### col =  TransactionsDebCashless_Card\n"
     ]
    },
    {
     "data": {
      "text/plain": [
       "count    1587.000000\n",
       "mean        5.240076\n",
       "std         8.386154\n",
       "min         0.000000\n",
       "0%          0.000000\n",
       "25%         0.000000\n",
       "50%         1.000000\n",
       "75%         7.000000\n",
       "85%        12.000000\n",
       "90%        16.000000\n",
       "95%        24.000000\n",
       "99%        37.140000\n",
       "100%       60.000000\n",
       "max        60.000000\n",
       "Name: TransactionsDebCashless_Card, dtype: float64"
      ]
     },
     "metadata": {},
     "output_type": "display_data"
    },
    {
     "name": "stdout",
     "output_type": "stream",
     "text": [
      "Values greater than 99 percentile : (array([  35,   41,  192,  233,  387,  406,  747,  936, 1234, 1251, 1376,\n",
      "       1387, 1418, 1465, 1487, 1496], dtype=int64),)\n",
      "Values greater than 95 percentile : (array([  25,   28,   35,   41,   72,   78,   84,  192,  233,  245,  263,\n",
      "        281,  298,  300,  321,  349,  387,  406,  519,  524,  557,  619,\n",
      "        677,  693,  719,  747,  772,  784,  792,  813,  842,  913,  932,\n",
      "        936,  993, 1011, 1016, 1049, 1071, 1096, 1114, 1127, 1141, 1155,\n",
      "       1159, 1161, 1185, 1190, 1196, 1198, 1200, 1201, 1226, 1234, 1251,\n",
      "       1273, 1283, 1285, 1376, 1387, 1391, 1402, 1408, 1409, 1416, 1418,\n",
      "       1419, 1427, 1459, 1465, 1472, 1478, 1487, 1493, 1496, 1529, 1563,\n",
      "       1575], dtype=int64),)\n",
      "######### col =  TransactionsDeb_PaymentOrder\n"
     ]
    },
    {
     "data": {
      "text/plain": [
       "count    1587.000000\n",
       "mean        4.601134\n",
       "std         5.211451\n",
       "min         0.000000\n",
       "0%          0.000000\n",
       "25%         0.000000\n",
       "50%         3.000000\n",
       "75%         7.000000\n",
       "85%        10.000000\n",
       "90%        12.000000\n",
       "95%        15.000000\n",
       "99%        21.000000\n",
       "100%       34.000000\n",
       "max        34.000000\n",
       "Name: TransactionsDeb_PaymentOrder, dtype: float64"
      ]
     },
     "metadata": {},
     "output_type": "display_data"
    },
    {
     "name": "stdout",
     "output_type": "stream",
     "text": [
      "Values greater than 99 percentile : (array([ 196,  348,  413,  506,  554,  729,  824, 1011, 1031, 1066, 1078,\n",
      "       1159, 1268, 1478, 1564], dtype=int64),)\n",
      "Values greater than 95 percentile : (array([  25,   65,   84,  169,  196,  217,  245,  314,  315,  336,  348,\n",
      "        358,  413,  422,  506,  521,  526,  554,  563,  582,  636,  679,\n",
      "        682,  729,  732,  742,  747,  766,  768,  772,  785,  824,  865,\n",
      "        873,  893,  918,  935, 1011, 1031, 1060, 1066, 1078, 1096, 1118,\n",
      "       1145, 1159, 1161, 1166, 1187, 1196, 1202, 1243, 1247, 1256, 1263,\n",
      "       1268, 1323, 1346, 1369, 1387, 1419, 1443, 1473, 1478, 1548, 1564,\n",
      "       1570], dtype=int64),)\n"
     ]
    }
   ],
   "source": [
    "columns = ['VolumeCred', 'VolumeCred_CA', 'TransactionsCred',\n",
    "       'TransactionsCred_CA', 'VolumeDeb', 'VolumeDeb_CA',\n",
    "       'VolumeDebCash_Card', 'VolumeDebCashless_Card',\n",
    "       'VolumeDeb_PaymentOrder', 'TransactionsDeb', 'TransactionsDeb_CA',\n",
    "       'TransactionsDebCash_Card', 'TransactionsDebCashless_Card',\n",
    "       'TransactionsDeb_PaymentOrder']\n",
    "\n",
    "for col in columns:\n",
    "    print(\"######### col = \",col)\n",
    "    desc = client_inflow_outflow[col].describe([0,0.25,0.5,0.75,0.85,0.9,0.95,0.99,1])\n",
    "    display(desc)\n",
    "    t_99 = desc['99%']\n",
    "    t_95 = desc['95%']\n",
    "    print(f\"Values greater than 99 percentile : {np.where(client_inflow_outflow[col]>t_99)}\")\n",
    "    print(f\"Values greater than 95 percentile : {np.where(client_inflow_outflow[col]>t_95)}\")\n",
    "#client_inflow_outflow.VolumeCred.describe([0,0.25,0.5,0.75,0.85,0.9,0.95,0.99,1])\n",
    "#bin_plot_barchart(client_inflow_outflow, 'VolumeCred', 0, 100,10, 'Age_Group')"
   ]
  },
  {
   "cell_type": "code",
   "execution_count": 30,
   "id": "77054169",
   "metadata": {},
   "outputs": [
    {
     "data": {
      "image/png": "[encoded data removed]",
      "text/plain": [
       "<Figure size 800x600 with 1 Axes>"
      ]
     },
     "metadata": {},
     "output_type": "display_data"
    },
    {
     "data": {
      "image/png": "[encoded data removed]",
      "text/plain": [
       "<Figure size 800x600 with 1 Axes>"
      ]
     },
     "metadata": {},
     "output_type": "display_data"
    }
   ],
   "source": [
    "#bin_plot_barchart(client_inflow_outflow, 'VolumeCred', 0, 107703,200, 'CreditVolume')\n",
    "bin_plot_barchart(client_inflow_outflow, 'VolumeCred', 0, 6000,200, 'CreditVolume')\n",
    "bin_plot_barchart(client_inflow_outflow, 'VolumeDeb', 0, 6000,200, 'DebitVolume')\n",
    "## Looking at these graphs, we can see that most of the data is less than 6000, so removing others as outliers"
   ]
  },
  {
   "cell_type": "code",
   "execution_count": null,
   "id": "14d93f61",
   "metadata": {},
   "outputs": [],
   "source": []
  },
  {
   "cell_type": "code",
   "execution_count": 31,
   "id": "f5a71de6",
   "metadata": {},
   "outputs": [],
   "source": [
    "def plot_scatter(df,col1, col2):\n",
    "    plt.figure(figsize=(8,5))\n",
    "    sns.scatterplot(data=df,x=col1, y=col2,s=100)\n",
    "    plt.title(\"scatter plot\")\n",
    "    plt.show()"
   ]
  },
  {
   "cell_type": "code",
   "execution_count": 32,
   "id": "aca2a296",
   "metadata": {},
   "outputs": [
    {
     "data": {
      "text/plain": [
       "\"col1s = ['Debit_percent_amount_Cash_Card','Debit_percent_amount_Cashless_Card','Debit_percent_amount_Payment_order']\\ncol2s = ['Debit_percent_transactions_Cash_Card','Debit_percent_transactions_Cashless_Card','Debit_percent_transactions_Payment_order']\\n\\nfor c1, c2 in zip(col1s, col2s):\\n    plot_scatter(client_inflow_outflow, c1,c2)\\n\""
      ]
     },
     "execution_count": 32,
     "metadata": {},
     "output_type": "execute_result"
    }
   ],
   "source": [
    "'''col1s = ['Debit_percent_amount_Cash_Card','Debit_percent_amount_Cashless_Card','Debit_percent_amount_Payment_order']\n",
    "col2s = ['Debit_percent_transactions_Cash_Card','Debit_percent_transactions_Cashless_Card','Debit_percent_transactions_Payment_order']\n",
    "\n",
    "for c1, c2 in zip(col1s, col2s):\n",
    "    plot_scatter(client_inflow_outflow, c1,c2)\n",
    "'''"
   ]
  },
  {
   "cell_type": "markdown",
   "id": "7002e1da",
   "metadata": {},
   "source": [
    "From above plots we see that generally if % of amount increases, % of transactions also increases.\n",
    "Exception are some clients for Payment order where the number of transactions remain same but larger transactions are made. \n",
    "Keeping this in mind, we can just use the Amount % as a feature for now to classify clients."
   ]
  },
  {
   "cell_type": "markdown",
   "id": "547e6dc2",
   "metadata": {},
   "source": [
    "# Analyzing client_sales_rev"
   ]
  },
  {
   "cell_type": "code",
   "execution_count": 33,
   "id": "56cd6ce8",
   "metadata": {},
   "outputs": [
    {
     "data": {
      "text/html": [
       "<div>\n",
       "<style scoped>\n",
       "    .dataframe tbody tr th:only-of-type {\n",
       "        vertical-align: middle;\n",
       "    }\n",
       "\n",
       "    .dataframe tbody tr th {\n",
       "        vertical-align: top;\n",
       "    }\n",
       "\n",
       "    .dataframe thead th {\n",
       "        text-align: right;\n",
       "    }\n",
       "</style>\n",
       "<table border=\"1\" class=\"dataframe\">\n",
       "  <thead>\n",
       "    <tr style=\"text-align: right;\">\n",
       "      <th></th>\n",
       "      <th>Client</th>\n",
       "      <th>Sale_MF</th>\n",
       "      <th>Sale_CC</th>\n",
       "      <th>Sale_CL</th>\n",
       "      <th>Revenue_MF</th>\n",
       "      <th>Revenue_CC</th>\n",
       "      <th>Revenue_CL</th>\n",
       "    </tr>\n",
       "  </thead>\n",
       "  <tbody>\n",
       "    <tr>\n",
       "      <th>0</th>\n",
       "      <td>1094</td>\n",
       "      <td>0</td>\n",
       "      <td>1</td>\n",
       "      <td>0</td>\n",
       "      <td>0.000000</td>\n",
       "      <td>5.138571</td>\n",
       "      <td>0.0000</td>\n",
       "    </tr>\n",
       "    <tr>\n",
       "      <th>1</th>\n",
       "      <td>1484</td>\n",
       "      <td>1</td>\n",
       "      <td>0</td>\n",
       "      <td>1</td>\n",
       "      <td>25.609107</td>\n",
       "      <td>0.000000</td>\n",
       "      <td>8.7225</td>\n",
       "    </tr>\n",
       "    <tr>\n",
       "      <th>2</th>\n",
       "      <td>20</td>\n",
       "      <td>0</td>\n",
       "      <td>1</td>\n",
       "      <td>0</td>\n",
       "      <td>0.000000</td>\n",
       "      <td>3.822500</td>\n",
       "      <td>0.0000</td>\n",
       "    </tr>\n",
       "    <tr>\n",
       "      <th>3</th>\n",
       "      <td>1193</td>\n",
       "      <td>0</td>\n",
       "      <td>0</td>\n",
       "      <td>0</td>\n",
       "      <td>0.000000</td>\n",
       "      <td>0.000000</td>\n",
       "      <td>0.0000</td>\n",
       "    </tr>\n",
       "    <tr>\n",
       "      <th>4</th>\n",
       "      <td>142</td>\n",
       "      <td>0</td>\n",
       "      <td>0</td>\n",
       "      <td>0</td>\n",
       "      <td>0.000000</td>\n",
       "      <td>0.000000</td>\n",
       "      <td>0.0000</td>\n",
       "    </tr>\n",
       "  </tbody>\n",
       "</table>\n",
       "</div>"
      ],
      "text/plain": [
       "   Client  Sale_MF  Sale_CC  Sale_CL  Revenue_MF  Revenue_CC  Revenue_CL\n",
       "0    1094        0        1        0    0.000000    5.138571      0.0000\n",
       "1    1484        1        0        1   25.609107    0.000000      8.7225\n",
       "2      20        0        1        0    0.000000    3.822500      0.0000\n",
       "3    1193        0        0        0    0.000000    0.000000      0.0000\n",
       "4     142        0        0        0    0.000000    0.000000      0.0000"
      ]
     },
     "metadata": {},
     "output_type": "display_data"
    },
    {
     "data": {
      "text/plain": [
       "(969, 7)"
      ]
     },
     "execution_count": 33,
     "metadata": {},
     "output_type": "execute_result"
    }
   ],
   "source": [
    "display(client_sales_rev.head())\n",
    "client_sales_rev.shape"
   ]
  },
  {
   "cell_type": "code",
   "execution_count": 34,
   "id": "02681c63",
   "metadata": {},
   "outputs": [
    {
     "name": "stdout",
     "output_type": "stream",
     "text": [
      "Number of cilents with no sale data : 400\n",
      "Number of cilents with only 1 sale : 427\n",
      "Number of cilents with 2 sales : 128\n",
      "Number of cilents with 3 sales : 14\n"
     ]
    }
   ],
   "source": [
    "print(f\"Number of cilents with no sale data : {sum(client_sales_rev.Sale_MF + client_sales_rev.Sale_CC + client_sales_rev.Sale_CL ==0)}\")\n",
    "print(f\"Number of cilents with only 1 sale : {sum(client_sales_rev.Sale_MF + client_sales_rev.Sale_CC + client_sales_rev.Sale_CL ==1)}\")\n",
    "print(f\"Number of cilents with 2 sales : {sum(client_sales_rev.Sale_MF + client_sales_rev.Sale_CC + client_sales_rev.Sale_CL ==2)}\")\n",
    "print(f\"Number of cilents with 3 sales : {sum(client_sales_rev.Sale_MF + client_sales_rev.Sale_CC + client_sales_rev.Sale_CL ==3)}\")\n"
   ]
  },
  {
   "cell_type": "markdown",
   "id": "73f6627e",
   "metadata": {},
   "source": [
    "# Combining all data frames"
   ]
  },
  {
   "cell_type": "code",
   "execution_count": 35,
   "id": "82612947",
   "metadata": {},
   "outputs": [],
   "source": [
    "dfs = [client_demographics,client_products,client_inflow_outflow,client_sales_rev]"
   ]
  },
  {
   "cell_type": "code",
   "execution_count": 36,
   "id": "1185ab65",
   "metadata": {},
   "outputs": [],
   "source": [
    "data = reduce(lambda df1, df2 : pd.merge(df1,df2, on='Client', how='inner'), dfs)"
   ]
  },
  {
   "cell_type": "code",
   "execution_count": 37,
   "id": "9419b604",
   "metadata": {},
   "outputs": [
    {
     "data": {
      "text/html": [
       "<div>\n",
       "<style scoped>\n",
       "    .dataframe tbody tr th:only-of-type {\n",
       "        vertical-align: middle;\n",
       "    }\n",
       "\n",
       "    .dataframe tbody tr th {\n",
       "        vertical-align: top;\n",
       "    }\n",
       "\n",
       "    .dataframe thead th {\n",
       "        text-align: right;\n",
       "    }\n",
       "</style>\n",
       "<table border=\"1\" class=\"dataframe\">\n",
       "  <thead>\n",
       "    <tr style=\"text-align: right;\">\n",
       "      <th></th>\n",
       "      <th>Client</th>\n",
       "      <th>Sex</th>\n",
       "      <th>Age</th>\n",
       "      <th>Tenure</th>\n",
       "      <th>Count_CA</th>\n",
       "      <th>Count_SA</th>\n",
       "      <th>Count_MF</th>\n",
       "      <th>Count_OVD</th>\n",
       "      <th>Count_CC</th>\n",
       "      <th>Count_CL</th>\n",
       "      <th>ActBal_CA</th>\n",
       "      <th>ActBal_SA</th>\n",
       "      <th>ActBal_MF</th>\n",
       "      <th>ActBal_OVD</th>\n",
       "      <th>ActBal_CC</th>\n",
       "      <th>ActBal_CL</th>\n",
       "      <th>VolumeCred</th>\n",
       "      <th>VolumeCred_CA</th>\n",
       "      <th>TransactionsCred</th>\n",
       "      <th>TransactionsCred_CA</th>\n",
       "      <th>VolumeDeb</th>\n",
       "      <th>VolumeDeb_CA</th>\n",
       "      <th>VolumeDebCash_Card</th>\n",
       "      <th>VolumeDebCashless_Card</th>\n",
       "      <th>VolumeDeb_PaymentOrder</th>\n",
       "      <th>TransactionsDeb</th>\n",
       "      <th>TransactionsDeb_CA</th>\n",
       "      <th>TransactionsDebCash_Card</th>\n",
       "      <th>TransactionsDebCashless_Card</th>\n",
       "      <th>TransactionsDeb_PaymentOrder</th>\n",
       "      <th>Sale_MF</th>\n",
       "      <th>Sale_CC</th>\n",
       "      <th>Sale_CL</th>\n",
       "      <th>Revenue_MF</th>\n",
       "      <th>Revenue_CC</th>\n",
       "      <th>Revenue_CL</th>\n",
       "    </tr>\n",
       "  </thead>\n",
       "  <tbody>\n",
       "    <tr>\n",
       "      <th>0</th>\n",
       "      <td>1217</td>\n",
       "      <td>M</td>\n",
       "      <td>38</td>\n",
       "      <td>165</td>\n",
       "      <td>1</td>\n",
       "      <td>0.0</td>\n",
       "      <td>0.0</td>\n",
       "      <td>0.0</td>\n",
       "      <td>0.0</td>\n",
       "      <td>0.0</td>\n",
       "      <td>6752.244643</td>\n",
       "      <td>0.000000</td>\n",
       "      <td>0.0</td>\n",
       "      <td>0.0000</td>\n",
       "      <td>0.00</td>\n",
       "      <td>0.000000</td>\n",
       "      <td>0.002143</td>\n",
       "      <td>0.002143</td>\n",
       "      <td>1</td>\n",
       "      <td>1</td>\n",
       "      <td>714.285714</td>\n",
       "      <td>714.285714</td>\n",
       "      <td>0.000000</td>\n",
       "      <td>0.000000</td>\n",
       "      <td>714.285714</td>\n",
       "      <td>1</td>\n",
       "      <td>1</td>\n",
       "      <td>0</td>\n",
       "      <td>0</td>\n",
       "      <td>1</td>\n",
       "      <td>0</td>\n",
       "      <td>0</td>\n",
       "      <td>0</td>\n",
       "      <td>0.000000</td>\n",
       "      <td>0.000000</td>\n",
       "      <td>0.000000</td>\n",
       "    </tr>\n",
       "    <tr>\n",
       "      <th>1</th>\n",
       "      <td>850</td>\n",
       "      <td>F</td>\n",
       "      <td>49</td>\n",
       "      <td>44</td>\n",
       "      <td>1</td>\n",
       "      <td>0.0</td>\n",
       "      <td>0.0</td>\n",
       "      <td>0.0</td>\n",
       "      <td>0.0</td>\n",
       "      <td>0.0</td>\n",
       "      <td>43.523214</td>\n",
       "      <td>0.000000</td>\n",
       "      <td>0.0</td>\n",
       "      <td>0.0000</td>\n",
       "      <td>0.00</td>\n",
       "      <td>0.000000</td>\n",
       "      <td>1392.402857</td>\n",
       "      <td>1392.402857</td>\n",
       "      <td>3</td>\n",
       "      <td>3</td>\n",
       "      <td>1226.345357</td>\n",
       "      <td>1226.345357</td>\n",
       "      <td>0.000000</td>\n",
       "      <td>0.000000</td>\n",
       "      <td>121.928571</td>\n",
       "      <td>6</td>\n",
       "      <td>6</td>\n",
       "      <td>0</td>\n",
       "      <td>0</td>\n",
       "      <td>1</td>\n",
       "      <td>0</td>\n",
       "      <td>1</td>\n",
       "      <td>0</td>\n",
       "      <td>0.000000</td>\n",
       "      <td>0.893929</td>\n",
       "      <td>0.000000</td>\n",
       "    </tr>\n",
       "    <tr>\n",
       "      <th>2</th>\n",
       "      <td>1473</td>\n",
       "      <td>M</td>\n",
       "      <td>54</td>\n",
       "      <td>34</td>\n",
       "      <td>1</td>\n",
       "      <td>1.0</td>\n",
       "      <td>0.0</td>\n",
       "      <td>0.0</td>\n",
       "      <td>1.0</td>\n",
       "      <td>1.0</td>\n",
       "      <td>29.024286</td>\n",
       "      <td>14447.801429</td>\n",
       "      <td>0.0</td>\n",
       "      <td>0.0000</td>\n",
       "      <td>653.91</td>\n",
       "      <td>1132.590357</td>\n",
       "      <td>1787.127500</td>\n",
       "      <td>939.128929</td>\n",
       "      <td>14</td>\n",
       "      <td>5</td>\n",
       "      <td>3875.137857</td>\n",
       "      <td>3794.580714</td>\n",
       "      <td>357.142857</td>\n",
       "      <td>444.597500</td>\n",
       "      <td>2076.785714</td>\n",
       "      <td>48</td>\n",
       "      <td>38</td>\n",
       "      <td>1</td>\n",
       "      <td>26</td>\n",
       "      <td>11</td>\n",
       "      <td>1</td>\n",
       "      <td>0</td>\n",
       "      <td>0</td>\n",
       "      <td>4.929643</td>\n",
       "      <td>0.000000</td>\n",
       "      <td>0.000000</td>\n",
       "    </tr>\n",
       "    <tr>\n",
       "      <th>3</th>\n",
       "      <td>1038</td>\n",
       "      <td>M</td>\n",
       "      <td>29</td>\n",
       "      <td>106</td>\n",
       "      <td>1</td>\n",
       "      <td>0.0</td>\n",
       "      <td>0.0</td>\n",
       "      <td>0.0</td>\n",
       "      <td>0.0</td>\n",
       "      <td>0.0</td>\n",
       "      <td>27.035714</td>\n",
       "      <td>0.000000</td>\n",
       "      <td>0.0</td>\n",
       "      <td>0.0000</td>\n",
       "      <td>0.00</td>\n",
       "      <td>0.000000</td>\n",
       "      <td>0.006071</td>\n",
       "      <td>0.006071</td>\n",
       "      <td>1</td>\n",
       "      <td>1</td>\n",
       "      <td>0.000000</td>\n",
       "      <td>0.000000</td>\n",
       "      <td>0.000000</td>\n",
       "      <td>0.000000</td>\n",
       "      <td>0.000000</td>\n",
       "      <td>0</td>\n",
       "      <td>0</td>\n",
       "      <td>0</td>\n",
       "      <td>0</td>\n",
       "      <td>0</td>\n",
       "      <td>0</td>\n",
       "      <td>0</td>\n",
       "      <td>0</td>\n",
       "      <td>0.000000</td>\n",
       "      <td>0.000000</td>\n",
       "      <td>0.000000</td>\n",
       "    </tr>\n",
       "    <tr>\n",
       "      <th>4</th>\n",
       "      <td>225</td>\n",
       "      <td>M</td>\n",
       "      <td>14</td>\n",
       "      <td>187</td>\n",
       "      <td>1</td>\n",
       "      <td>0.0</td>\n",
       "      <td>0.0</td>\n",
       "      <td>1.0</td>\n",
       "      <td>0.0</td>\n",
       "      <td>0.0</td>\n",
       "      <td>345.686071</td>\n",
       "      <td>0.000000</td>\n",
       "      <td>0.0</td>\n",
       "      <td>618.3975</td>\n",
       "      <td>0.00</td>\n",
       "      <td>0.000000</td>\n",
       "      <td>0.007500</td>\n",
       "      <td>0.007500</td>\n",
       "      <td>1</td>\n",
       "      <td>1</td>\n",
       "      <td>130.521429</td>\n",
       "      <td>130.521429</td>\n",
       "      <td>0.000000</td>\n",
       "      <td>111.235714</td>\n",
       "      <td>19.285714</td>\n",
       "      <td>5</td>\n",
       "      <td>5</td>\n",
       "      <td>0</td>\n",
       "      <td>4</td>\n",
       "      <td>1</td>\n",
       "      <td>0</td>\n",
       "      <td>0</td>\n",
       "      <td>1</td>\n",
       "      <td>0.000000</td>\n",
       "      <td>0.000000</td>\n",
       "      <td>8.130714</td>\n",
       "    </tr>\n",
       "  </tbody>\n",
       "</table>\n",
       "</div>"
      ],
      "text/plain": [
       "   Client Sex  Age  Tenure  Count_CA  Count_SA  Count_MF  Count_OVD  Count_CC  \\\n",
       "0    1217   M   38     165         1       0.0       0.0        0.0       0.0   \n",
       "1     850   F   49      44         1       0.0       0.0        0.0       0.0   \n",
       "2    1473   M   54      34         1       1.0       0.0        0.0       1.0   \n",
       "3    1038   M   29     106         1       0.0       0.0        0.0       0.0   \n",
       "4     225   M   14     187         1       0.0       0.0        1.0       0.0   \n",
       "\n",
       "   Count_CL    ActBal_CA     ActBal_SA  ActBal_MF  ActBal_OVD  ActBal_CC  \\\n",
       "0       0.0  6752.244643      0.000000        0.0      0.0000       0.00   \n",
       "1       0.0    43.523214      0.000000        0.0      0.0000       0.00   \n",
       "2       1.0    29.024286  14447.801429        0.0      0.0000     653.91   \n",
       "3       0.0    27.035714      0.000000        0.0      0.0000       0.00   \n",
       "4       0.0   345.686071      0.000000        0.0    618.3975       0.00   \n",
       "\n",
       "     ActBal_CL   VolumeCred  VolumeCred_CA  TransactionsCred  \\\n",
       "0     0.000000     0.002143       0.002143                 1   \n",
       "1     0.000000  1392.402857    1392.402857                 3   \n",
       "2  1132.590357  1787.127500     939.128929                14   \n",
       "3     0.000000     0.006071       0.006071                 1   \n",
       "4     0.000000     0.007500       0.007500                 1   \n",
       "\n",
       "   TransactionsCred_CA    VolumeDeb  VolumeDeb_CA  VolumeDebCash_Card  \\\n",
       "0                    1   714.285714    714.285714            0.000000   \n",
       "1                    3  1226.345357   1226.345357            0.000000   \n",
       "2                    5  3875.137857   3794.580714          357.142857   \n",
       "3                    1     0.000000      0.000000            0.000000   \n",
       "4                    1   130.521429    130.521429            0.000000   \n",
       "\n",
       "   VolumeDebCashless_Card  VolumeDeb_PaymentOrder  TransactionsDeb  \\\n",
       "0                0.000000              714.285714                1   \n",
       "1                0.000000              121.928571                6   \n",
       "2              444.597500             2076.785714               48   \n",
       "3                0.000000                0.000000                0   \n",
       "4              111.235714               19.285714                5   \n",
       "\n",
       "   TransactionsDeb_CA  TransactionsDebCash_Card  TransactionsDebCashless_Card  \\\n",
       "0                   1                         0                             0   \n",
       "1                   6                         0                             0   \n",
       "2                  38                         1                            26   \n",
       "3                   0                         0                             0   \n",
       "4                   5                         0                             4   \n",
       "\n",
       "   TransactionsDeb_PaymentOrder  Sale_MF  Sale_CC  Sale_CL  Revenue_MF  \\\n",
       "0                             1        0        0        0    0.000000   \n",
       "1                             1        0        1        0    0.000000   \n",
       "2                            11        1        0        0    4.929643   \n",
       "3                             0        0        0        0    0.000000   \n",
       "4                             1        0        0        1    0.000000   \n",
       "\n",
       "   Revenue_CC  Revenue_CL  \n",
       "0    0.000000    0.000000  \n",
       "1    0.893929    0.000000  \n",
       "2    0.000000    0.000000  \n",
       "3    0.000000    0.000000  \n",
       "4    0.000000    8.130714  "
      ]
     },
     "execution_count": 37,
     "metadata": {},
     "output_type": "execute_result"
    }
   ],
   "source": [
    "data.head()"
   ]
  },
  {
   "cell_type": "code",
   "execution_count": 38,
   "id": "25054814",
   "metadata": {
    "scrolled": true
   },
   "outputs": [
    {
     "data": {
      "text/plain": [
       "Client                          False\n",
       "Sex                             False\n",
       "Age                             False\n",
       "Tenure                          False\n",
       "Count_CA                        False\n",
       "Count_SA                        False\n",
       "Count_MF                        False\n",
       "Count_OVD                       False\n",
       "Count_CC                        False\n",
       "Count_CL                        False\n",
       "ActBal_CA                       False\n",
       "ActBal_SA                       False\n",
       "ActBal_MF                       False\n",
       "ActBal_OVD                      False\n",
       "ActBal_CC                       False\n",
       "ActBal_CL                       False\n",
       "VolumeCred                      False\n",
       "VolumeCred_CA                   False\n",
       "TransactionsCred                False\n",
       "TransactionsCred_CA             False\n",
       "VolumeDeb                       False\n",
       "VolumeDeb_CA                    False\n",
       "VolumeDebCash_Card              False\n",
       "VolumeDebCashless_Card          False\n",
       "VolumeDeb_PaymentOrder          False\n",
       "TransactionsDeb                 False\n",
       "TransactionsDeb_CA              False\n",
       "TransactionsDebCash_Card        False\n",
       "TransactionsDebCashless_Card    False\n",
       "TransactionsDeb_PaymentOrder    False\n",
       "Sale_MF                         False\n",
       "Sale_CC                         False\n",
       "Sale_CL                         False\n",
       "Revenue_MF                      False\n",
       "Revenue_CC                      False\n",
       "Revenue_CL                      False\n",
       "dtype: bool"
      ]
     },
     "execution_count": 38,
     "metadata": {},
     "output_type": "execute_result"
    }
   ],
   "source": [
    "data.isna().any()"
   ]
  },
  {
   "cell_type": "code",
   "execution_count": 39,
   "id": "42eededc",
   "metadata": {
    "scrolled": true
   },
   "outputs": [
    {
     "name": "stdout",
     "output_type": "stream",
     "text": [
      "736\n"
     ]
    }
   ],
   "source": [
    "indices = set(np.where(data.VolumeCred < 6000)[0]) & set(np.where(data.VolumeDeb < 6000)[0] )\n",
    "indices = indices & set(np.where(data.ActBal_CA < 10000)[0])\n",
    "indices = indices & set(np.where(data.ActBal_SA < 10000)[0])\n",
    "indices = indices & set(np.where(data.ActBal_MF < 10000)[0])\n",
    "#indices = indices & set(np.where(data.ActBal_CL < 10000)[0])\n",
    "#indices = indices & set(np.where(data.ActBal_CC < 1000)[0])\n",
    "print(len(indices))\n",
    "data_outlier_rem = data.iloc[list(indices),]"
   ]
  },
  {
   "cell_type": "code",
   "execution_count": 40,
   "id": "da6088d7",
   "metadata": {},
   "outputs": [
    {
     "name": "stdout",
     "output_type": "stream",
     "text": [
      "(736, 36)\n"
     ]
    },
    {
     "data": {
      "text/html": [
       "<div>\n",
       "<style scoped>\n",
       "    .dataframe tbody tr th:only-of-type {\n",
       "        vertical-align: middle;\n",
       "    }\n",
       "\n",
       "    .dataframe tbody tr th {\n",
       "        vertical-align: top;\n",
       "    }\n",
       "\n",
       "    .dataframe thead th {\n",
       "        text-align: right;\n",
       "    }\n",
       "</style>\n",
       "<table border=\"1\" class=\"dataframe\">\n",
       "  <thead>\n",
       "    <tr style=\"text-align: right;\">\n",
       "      <th></th>\n",
       "      <th>Client</th>\n",
       "      <th>Age</th>\n",
       "      <th>Tenure</th>\n",
       "      <th>Count_CA</th>\n",
       "      <th>Count_SA</th>\n",
       "      <th>Count_MF</th>\n",
       "      <th>Count_OVD</th>\n",
       "      <th>Count_CC</th>\n",
       "      <th>Count_CL</th>\n",
       "      <th>ActBal_CA</th>\n",
       "      <th>ActBal_SA</th>\n",
       "      <th>ActBal_MF</th>\n",
       "      <th>ActBal_OVD</th>\n",
       "      <th>ActBal_CC</th>\n",
       "      <th>ActBal_CL</th>\n",
       "      <th>VolumeCred</th>\n",
       "      <th>VolumeCred_CA</th>\n",
       "      <th>TransactionsCred</th>\n",
       "      <th>TransactionsCred_CA</th>\n",
       "      <th>VolumeDeb</th>\n",
       "      <th>VolumeDeb_CA</th>\n",
       "      <th>VolumeDebCash_Card</th>\n",
       "      <th>VolumeDebCashless_Card</th>\n",
       "      <th>VolumeDeb_PaymentOrder</th>\n",
       "      <th>TransactionsDeb</th>\n",
       "      <th>TransactionsDeb_CA</th>\n",
       "      <th>TransactionsDebCash_Card</th>\n",
       "      <th>TransactionsDebCashless_Card</th>\n",
       "      <th>TransactionsDeb_PaymentOrder</th>\n",
       "      <th>Sale_MF</th>\n",
       "      <th>Sale_CC</th>\n",
       "      <th>Sale_CL</th>\n",
       "      <th>Revenue_MF</th>\n",
       "      <th>Revenue_CC</th>\n",
       "      <th>Revenue_CL</th>\n",
       "    </tr>\n",
       "  </thead>\n",
       "  <tbody>\n",
       "    <tr>\n",
       "      <th>count</th>\n",
       "      <td>736.000000</td>\n",
       "      <td>736.000000</td>\n",
       "      <td>736.000000</td>\n",
       "      <td>736.000000</td>\n",
       "      <td>736.000000</td>\n",
       "      <td>736.000000</td>\n",
       "      <td>736.000000</td>\n",
       "      <td>736.000000</td>\n",
       "      <td>736.000000</td>\n",
       "      <td>736.000000</td>\n",
       "      <td>736.000000</td>\n",
       "      <td>736.000000</td>\n",
       "      <td>736.000000</td>\n",
       "      <td>736.000000</td>\n",
       "      <td>736.000000</td>\n",
       "      <td>736.000000</td>\n",
       "      <td>736.000000</td>\n",
       "      <td>736.000000</td>\n",
       "      <td>736.000000</td>\n",
       "      <td>736.000000</td>\n",
       "      <td>736.000000</td>\n",
       "      <td>736.000000</td>\n",
       "      <td>736.000000</td>\n",
       "      <td>736.000000</td>\n",
       "      <td>736.000000</td>\n",
       "      <td>736.000000</td>\n",
       "      <td>736.000000</td>\n",
       "      <td>736.000000</td>\n",
       "      <td>736.000000</td>\n",
       "      <td>736.000000</td>\n",
       "      <td>736.00000</td>\n",
       "      <td>736.000000</td>\n",
       "      <td>736.000000</td>\n",
       "      <td>736.000000</td>\n",
       "      <td>736.000000</td>\n",
       "    </tr>\n",
       "    <tr>\n",
       "      <th>mean</th>\n",
       "      <td>819.199728</td>\n",
       "      <td>42.997283</td>\n",
       "      <td>99.686141</td>\n",
       "      <td>1.070652</td>\n",
       "      <td>0.220109</td>\n",
       "      <td>0.610054</td>\n",
       "      <td>0.267663</td>\n",
       "      <td>0.110054</td>\n",
       "      <td>0.093750</td>\n",
       "      <td>1295.437777</td>\n",
       "      <td>515.665915</td>\n",
       "      <td>237.081740</td>\n",
       "      <td>44.134293</td>\n",
       "      <td>32.170374</td>\n",
       "      <td>337.759881</td>\n",
       "      <td>903.959908</td>\n",
       "      <td>812.276277</td>\n",
       "      <td>5.194293</td>\n",
       "      <td>4.047554</td>\n",
       "      <td>911.662309</td>\n",
       "      <td>815.300632</td>\n",
       "      <td>214.868742</td>\n",
       "      <td>123.392193</td>\n",
       "      <td>337.050066</td>\n",
       "      <td>15.031250</td>\n",
       "      <td>12.846467</td>\n",
       "      <td>1.987772</td>\n",
       "      <td>4.771739</td>\n",
       "      <td>4.139946</td>\n",
       "      <td>0.199728</td>\n",
       "      <td>0.21875</td>\n",
       "      <td>0.293478</td>\n",
       "      <td>1.689595</td>\n",
       "      <td>2.759137</td>\n",
       "      <td>3.386683</td>\n",
       "    </tr>\n",
       "    <tr>\n",
       "      <th>std</th>\n",
       "      <td>466.553208</td>\n",
       "      <td>18.351148</td>\n",
       "      <td>65.084231</td>\n",
       "      <td>0.300399</td>\n",
       "      <td>0.500805</td>\n",
       "      <td>3.723630</td>\n",
       "      <td>0.443042</td>\n",
       "      <td>0.313170</td>\n",
       "      <td>0.318438</td>\n",
       "      <td>1881.728683</td>\n",
       "      <td>1607.668206</td>\n",
       "      <td>1158.207071</td>\n",
       "      <td>194.170898</td>\n",
       "      <td>161.755186</td>\n",
       "      <td>1520.559690</td>\n",
       "      <td>996.378276</td>\n",
       "      <td>869.201186</td>\n",
       "      <td>5.557518</td>\n",
       "      <td>4.286244</td>\n",
       "      <td>995.407105</td>\n",
       "      <td>850.236635</td>\n",
       "      <td>320.619098</td>\n",
       "      <td>212.612753</td>\n",
       "      <td>529.799861</td>\n",
       "      <td>14.354514</td>\n",
       "      <td>11.635721</td>\n",
       "      <td>2.676908</td>\n",
       "      <td>7.336393</td>\n",
       "      <td>4.598519</td>\n",
       "      <td>0.400068</td>\n",
       "      <td>0.41368</td>\n",
       "      <td>0.455665</td>\n",
       "      <td>6.600352</td>\n",
       "      <td>19.812291</td>\n",
       "      <td>6.560099</td>\n",
       "    </tr>\n",
       "    <tr>\n",
       "      <th>min</th>\n",
       "      <td>1.000000</td>\n",
       "      <td>1.000000</td>\n",
       "      <td>0.000000</td>\n",
       "      <td>1.000000</td>\n",
       "      <td>0.000000</td>\n",
       "      <td>0.000000</td>\n",
       "      <td>0.000000</td>\n",
       "      <td>0.000000</td>\n",
       "      <td>0.000000</td>\n",
       "      <td>0.000000</td>\n",
       "      <td>0.000000</td>\n",
       "      <td>0.000000</td>\n",
       "      <td>0.000000</td>\n",
       "      <td>-15.479286</td>\n",
       "      <td>0.000000</td>\n",
       "      <td>0.000000</td>\n",
       "      <td>0.000000</td>\n",
       "      <td>0.000000</td>\n",
       "      <td>0.000000</td>\n",
       "      <td>0.000000</td>\n",
       "      <td>0.000000</td>\n",
       "      <td>0.000000</td>\n",
       "      <td>0.000000</td>\n",
       "      <td>0.000000</td>\n",
       "      <td>0.000000</td>\n",
       "      <td>0.000000</td>\n",
       "      <td>0.000000</td>\n",
       "      <td>0.000000</td>\n",
       "      <td>0.000000</td>\n",
       "      <td>0.000000</td>\n",
       "      <td>0.00000</td>\n",
       "      <td>0.000000</td>\n",
       "      <td>0.000000</td>\n",
       "      <td>0.000000</td>\n",
       "      <td>0.000000</td>\n",
       "    </tr>\n",
       "    <tr>\n",
       "      <th>25%</th>\n",
       "      <td>421.750000</td>\n",
       "      <td>29.000000</td>\n",
       "      <td>43.750000</td>\n",
       "      <td>1.000000</td>\n",
       "      <td>0.000000</td>\n",
       "      <td>0.000000</td>\n",
       "      <td>0.000000</td>\n",
       "      <td>0.000000</td>\n",
       "      <td>0.000000</td>\n",
       "      <td>72.952321</td>\n",
       "      <td>0.000000</td>\n",
       "      <td>0.000000</td>\n",
       "      <td>0.000000</td>\n",
       "      <td>0.000000</td>\n",
       "      <td>0.000000</td>\n",
       "      <td>212.147232</td>\n",
       "      <td>196.441696</td>\n",
       "      <td>2.000000</td>\n",
       "      <td>2.000000</td>\n",
       "      <td>202.868929</td>\n",
       "      <td>188.879464</td>\n",
       "      <td>0.000000</td>\n",
       "      <td>0.000000</td>\n",
       "      <td>0.000000</td>\n",
       "      <td>4.000000</td>\n",
       "      <td>4.000000</td>\n",
       "      <td>0.000000</td>\n",
       "      <td>0.000000</td>\n",
       "      <td>0.000000</td>\n",
       "      <td>0.000000</td>\n",
       "      <td>0.00000</td>\n",
       "      <td>0.000000</td>\n",
       "      <td>0.000000</td>\n",
       "      <td>0.000000</td>\n",
       "      <td>0.000000</td>\n",
       "    </tr>\n",
       "    <tr>\n",
       "      <th>50%</th>\n",
       "      <td>822.500000</td>\n",
       "      <td>41.000000</td>\n",
       "      <td>93.000000</td>\n",
       "      <td>1.000000</td>\n",
       "      <td>0.000000</td>\n",
       "      <td>0.000000</td>\n",
       "      <td>0.000000</td>\n",
       "      <td>0.000000</td>\n",
       "      <td>0.000000</td>\n",
       "      <td>461.978929</td>\n",
       "      <td>0.000000</td>\n",
       "      <td>0.000000</td>\n",
       "      <td>0.000000</td>\n",
       "      <td>0.000000</td>\n",
       "      <td>0.000000</td>\n",
       "      <td>620.089821</td>\n",
       "      <td>572.895714</td>\n",
       "      <td>3.000000</td>\n",
       "      <td>3.000000</td>\n",
       "      <td>626.870714</td>\n",
       "      <td>588.928214</td>\n",
       "      <td>71.428571</td>\n",
       "      <td>23.606607</td>\n",
       "      <td>154.437500</td>\n",
       "      <td>11.500000</td>\n",
       "      <td>10.000000</td>\n",
       "      <td>1.000000</td>\n",
       "      <td>1.000000</td>\n",
       "      <td>3.000000</td>\n",
       "      <td>0.000000</td>\n",
       "      <td>0.00000</td>\n",
       "      <td>0.000000</td>\n",
       "      <td>0.000000</td>\n",
       "      <td>0.000000</td>\n",
       "      <td>0.000000</td>\n",
       "    </tr>\n",
       "    <tr>\n",
       "      <th>75%</th>\n",
       "      <td>1221.500000</td>\n",
       "      <td>57.000000</td>\n",
       "      <td>151.000000</td>\n",
       "      <td>1.000000</td>\n",
       "      <td>0.000000</td>\n",
       "      <td>0.000000</td>\n",
       "      <td>1.000000</td>\n",
       "      <td>0.000000</td>\n",
       "      <td>0.000000</td>\n",
       "      <td>1746.064107</td>\n",
       "      <td>0.000000</td>\n",
       "      <td>0.000000</td>\n",
       "      <td>0.000000</td>\n",
       "      <td>0.000000</td>\n",
       "      <td>0.000000</td>\n",
       "      <td>1234.478839</td>\n",
       "      <td>1142.673214</td>\n",
       "      <td>6.000000</td>\n",
       "      <td>4.000000</td>\n",
       "      <td>1260.244107</td>\n",
       "      <td>1159.651429</td>\n",
       "      <td>321.428571</td>\n",
       "      <td>168.537768</td>\n",
       "      <td>433.258036</td>\n",
       "      <td>21.000000</td>\n",
       "      <td>18.000000</td>\n",
       "      <td>3.000000</td>\n",
       "      <td>7.000000</td>\n",
       "      <td>6.000000</td>\n",
       "      <td>0.000000</td>\n",
       "      <td>0.00000</td>\n",
       "      <td>1.000000</td>\n",
       "      <td>0.000000</td>\n",
       "      <td>0.000000</td>\n",
       "      <td>4.223214</td>\n",
       "    </tr>\n",
       "    <tr>\n",
       "      <th>max</th>\n",
       "      <td>1615.000000</td>\n",
       "      <td>88.000000</td>\n",
       "      <td>267.000000</td>\n",
       "      <td>3.000000</td>\n",
       "      <td>3.000000</td>\n",
       "      <td>79.000000</td>\n",
       "      <td>1.000000</td>\n",
       "      <td>1.000000</td>\n",
       "      <td>2.000000</td>\n",
       "      <td>9830.705357</td>\n",
       "      <td>9686.631071</td>\n",
       "      <td>9824.236786</td>\n",
       "      <td>2055.325357</td>\n",
       "      <td>1767.785357</td>\n",
       "      <td>17300.489643</td>\n",
       "      <td>5998.368929</td>\n",
       "      <td>5823.408929</td>\n",
       "      <td>40.000000</td>\n",
       "      <td>33.000000</td>\n",
       "      <td>5647.542857</td>\n",
       "      <td>5244.964286</td>\n",
       "      <td>2250.000000</td>\n",
       "      <td>1889.976429</td>\n",
       "      <td>4232.285714</td>\n",
       "      <td>102.000000</td>\n",
       "      <td>79.000000</td>\n",
       "      <td>25.000000</td>\n",
       "      <td>47.000000</td>\n",
       "      <td>24.000000</td>\n",
       "      <td>1.000000</td>\n",
       "      <td>1.00000</td>\n",
       "      <td>1.000000</td>\n",
       "      <td>65.704107</td>\n",
       "      <td>407.962500</td>\n",
       "      <td>46.392857</td>\n",
       "    </tr>\n",
       "  </tbody>\n",
       "</table>\n",
       "</div>"
      ],
      "text/plain": [
       "            Client         Age      Tenure    Count_CA    Count_SA  \\\n",
       "count   736.000000  736.000000  736.000000  736.000000  736.000000   \n",
       "mean    819.199728   42.997283   99.686141    1.070652    0.220109   \n",
       "std     466.553208   18.351148   65.084231    0.300399    0.500805   \n",
       "min       1.000000    1.000000    0.000000    1.000000    0.000000   \n",
       "25%     421.750000   29.000000   43.750000    1.000000    0.000000   \n",
       "50%     822.500000   41.000000   93.000000    1.000000    0.000000   \n",
       "75%    1221.500000   57.000000  151.000000    1.000000    0.000000   \n",
       "max    1615.000000   88.000000  267.000000    3.000000    3.000000   \n",
       "\n",
       "         Count_MF   Count_OVD    Count_CC    Count_CL    ActBal_CA  \\\n",
       "count  736.000000  736.000000  736.000000  736.000000   736.000000   \n",
       "mean     0.610054    0.267663    0.110054    0.093750  1295.437777   \n",
       "std      3.723630    0.443042    0.313170    0.318438  1881.728683   \n",
       "min      0.000000    0.000000    0.000000    0.000000     0.000000   \n",
       "25%      0.000000    0.000000    0.000000    0.000000    72.952321   \n",
       "50%      0.000000    0.000000    0.000000    0.000000   461.978929   \n",
       "75%      0.000000    1.000000    0.000000    0.000000  1746.064107   \n",
       "max     79.000000    1.000000    1.000000    2.000000  9830.705357   \n",
       "\n",
       "         ActBal_SA    ActBal_MF   ActBal_OVD    ActBal_CC     ActBal_CL  \\\n",
       "count   736.000000   736.000000   736.000000   736.000000    736.000000   \n",
       "mean    515.665915   237.081740    44.134293    32.170374    337.759881   \n",
       "std    1607.668206  1158.207071   194.170898   161.755186   1520.559690   \n",
       "min       0.000000     0.000000     0.000000   -15.479286      0.000000   \n",
       "25%       0.000000     0.000000     0.000000     0.000000      0.000000   \n",
       "50%       0.000000     0.000000     0.000000     0.000000      0.000000   \n",
       "75%       0.000000     0.000000     0.000000     0.000000      0.000000   \n",
       "max    9686.631071  9824.236786  2055.325357  1767.785357  17300.489643   \n",
       "\n",
       "        VolumeCred  VolumeCred_CA  TransactionsCred  TransactionsCred_CA  \\\n",
       "count   736.000000     736.000000        736.000000           736.000000   \n",
       "mean    903.959908     812.276277          5.194293             4.047554   \n",
       "std     996.378276     869.201186          5.557518             4.286244   \n",
       "min       0.000000       0.000000          0.000000             0.000000   \n",
       "25%     212.147232     196.441696          2.000000             2.000000   \n",
       "50%     620.089821     572.895714          3.000000             3.000000   \n",
       "75%    1234.478839    1142.673214          6.000000             4.000000   \n",
       "max    5998.368929    5823.408929         40.000000            33.000000   \n",
       "\n",
       "         VolumeDeb  VolumeDeb_CA  VolumeDebCash_Card  VolumeDebCashless_Card  \\\n",
       "count   736.000000    736.000000          736.000000              736.000000   \n",
       "mean    911.662309    815.300632          214.868742              123.392193   \n",
       "std     995.407105    850.236635          320.619098              212.612753   \n",
       "min       0.000000      0.000000            0.000000                0.000000   \n",
       "25%     202.868929    188.879464            0.000000                0.000000   \n",
       "50%     626.870714    588.928214           71.428571               23.606607   \n",
       "75%    1260.244107   1159.651429          321.428571              168.537768   \n",
       "max    5647.542857   5244.964286         2250.000000             1889.976429   \n",
       "\n",
       "       VolumeDeb_PaymentOrder  TransactionsDeb  TransactionsDeb_CA  \\\n",
       "count              736.000000       736.000000          736.000000   \n",
       "mean               337.050066        15.031250           12.846467   \n",
       "std                529.799861        14.354514           11.635721   \n",
       "min                  0.000000         0.000000            0.000000   \n",
       "25%                  0.000000         4.000000            4.000000   \n",
       "50%                154.437500        11.500000           10.000000   \n",
       "75%                433.258036        21.000000           18.000000   \n",
       "max               4232.285714       102.000000           79.000000   \n",
       "\n",
       "       TransactionsDebCash_Card  TransactionsDebCashless_Card  \\\n",
       "count                736.000000                    736.000000   \n",
       "mean                   1.987772                      4.771739   \n",
       "std                    2.676908                      7.336393   \n",
       "min                    0.000000                      0.000000   \n",
       "25%                    0.000000                      0.000000   \n",
       "50%                    1.000000                      1.000000   \n",
       "75%                    3.000000                      7.000000   \n",
       "max                   25.000000                     47.000000   \n",
       "\n",
       "       TransactionsDeb_PaymentOrder     Sale_MF    Sale_CC     Sale_CL  \\\n",
       "count                    736.000000  736.000000  736.00000  736.000000   \n",
       "mean                       4.139946    0.199728    0.21875    0.293478   \n",
       "std                        4.598519    0.400068    0.41368    0.455665   \n",
       "min                        0.000000    0.000000    0.00000    0.000000   \n",
       "25%                        0.000000    0.000000    0.00000    0.000000   \n",
       "50%                        3.000000    0.000000    0.00000    0.000000   \n",
       "75%                        6.000000    0.000000    0.00000    1.000000   \n",
       "max                       24.000000    1.000000    1.00000    1.000000   \n",
       "\n",
       "       Revenue_MF  Revenue_CC  Revenue_CL  \n",
       "count  736.000000  736.000000  736.000000  \n",
       "mean     1.689595    2.759137    3.386683  \n",
       "std      6.600352   19.812291    6.560099  \n",
       "min      0.000000    0.000000    0.000000  \n",
       "25%      0.000000    0.000000    0.000000  \n",
       "50%      0.000000    0.000000    0.000000  \n",
       "75%      0.000000    0.000000    4.223214  \n",
       "max     65.704107  407.962500   46.392857  "
      ]
     },
     "execution_count": 40,
     "metadata": {},
     "output_type": "execute_result"
    }
   ],
   "source": [
    "print(data_outlier_rem.shape)\n",
    "data_outlier_rem.head()\n",
    "data_outlier_rem.describe()"
   ]
  },
  {
   "cell_type": "code",
   "execution_count": 41,
   "id": "5f37f9dd",
   "metadata": {
    "scrolled": true
   },
   "outputs": [
    {
     "data": {
      "text/plain": [
       "Index(['Client', 'Sex', 'Age', 'Tenure', 'Count_CA', 'Count_SA', 'Count_MF',\n",
       "       'Count_OVD', 'Count_CC', 'Count_CL', 'ActBal_CA', 'ActBal_SA',\n",
       "       'ActBal_MF', 'ActBal_OVD', 'ActBal_CC', 'ActBal_CL', 'VolumeCred',\n",
       "       'VolumeCred_CA', 'TransactionsCred', 'TransactionsCred_CA', 'VolumeDeb',\n",
       "       'VolumeDeb_CA', 'VolumeDebCash_Card', 'VolumeDebCashless_Card',\n",
       "       'VolumeDeb_PaymentOrder', 'TransactionsDeb', 'TransactionsDeb_CA',\n",
       "       'TransactionsDebCash_Card', 'TransactionsDebCashless_Card',\n",
       "       'TransactionsDeb_PaymentOrder', 'Sale_MF', 'Sale_CC', 'Sale_CL',\n",
       "       'Revenue_MF', 'Revenue_CC', 'Revenue_CL'],\n",
       "      dtype='object')"
      ]
     },
     "execution_count": 41,
     "metadata": {},
     "output_type": "execute_result"
    }
   ],
   "source": [
    "data_outlier_rem.columns"
   ]
  },
  {
   "cell_type": "code",
   "execution_count": 42,
   "id": "a02cbd71",
   "metadata": {},
   "outputs": [],
   "source": [
    "#data.to_pickle('data_for_modeling.pkl')\n",
    "#data_outlier_rem.to_pickle('data_for_modeling.pkl')"
   ]
  },
  {
   "cell_type": "markdown",
   "id": "59d9135e",
   "metadata": {},
   "source": [
    "# Correlation Analysis"
   ]
  },
  {
   "cell_type": "code",
   "execution_count": 43,
   "id": "ca521e45",
   "metadata": {},
   "outputs": [
    {
     "name": "stderr",
     "output_type": "stream",
     "text": [
      "C:\\Users\\vivek.choudhary\\AppData\\Local\\Temp\\ipykernel_2424\\1778348002.py:10: SettingWithCopyWarning: \n",
      "A value is trying to be set on a copy of a slice from a DataFrame.\n",
      "Try using .loc[row_indexer,col_indexer] = value instead\n",
      "\n",
      "See the caveats in the documentation: https://pandas.pydata.org/pandas-docs/stable/user_guide/indexing.html#returning-a-view-versus-a-copy\n",
      "  data_outlier_rem[cols_to_standardize] = scaler.fit_transform(data_outlier_rem[cols_to_standardize])\n"
     ]
    }
   ],
   "source": [
    "scaler = StandardScaler()\n",
    "cols_to_standardize = ['Age', 'Tenure', 'Count_CA', 'Count_SA', 'Count_MF',\n",
    "       'Count_OVD', 'Count_CC', 'Count_CL', 'ActBal_CA', 'ActBal_SA',\n",
    "       'ActBal_MF', 'ActBal_OVD', 'ActBal_CC', 'ActBal_CL', 'VolumeCred',\n",
    "       'VolumeCred_CA', 'TransactionsCred', 'TransactionsCred_CA', 'VolumeDeb',\n",
    "       'VolumeDeb_CA', 'VolumeDebCash_Card', 'VolumeDebCashless_Card',\n",
    "       'VolumeDeb_PaymentOrder', 'TransactionsDeb', 'TransactionsDeb_CA',\n",
    "       'TransactionsDebCash_Card', 'TransactionsDebCashless_Card',\n",
    "       'TransactionsDeb_PaymentOrder']\n",
    "data_outlier_rem[cols_to_standardize] = scaler.fit_transform(data_outlier_rem[cols_to_standardize])"
   ]
  },
  {
   "cell_type": "code",
   "execution_count": 44,
   "id": "5f14ac2c",
   "metadata": {},
   "outputs": [],
   "source": [
    "correlation_matrix = data_outlier_rem[cols_to_standardize].corr()"
   ]
  },
  {
   "cell_type": "code",
   "execution_count": 45,
   "id": "77e5bbfd",
   "metadata": {},
   "outputs": [
    {
     "name": "stdout",
     "output_type": "stream",
     "text": [
      "[[('VolumeCred', 'VolumeCred_CA', 0.9643096599507676)], [('VolumeCred_CA', 'VolumeCred', 0.9643096599507676)], [('TransactionsCred', 'TransactionsCred_CA', 0.9437899408491135)], [('TransactionsCred_CA', 'TransactionsCred', 0.9437899408491135)], [('VolumeDeb', 'VolumeDeb_CA', 0.9508575892846056)], [('VolumeDeb_CA', 'VolumeDeb', 0.9508575892846056)], [('TransactionsDeb', 'TransactionsDeb_CA', 0.9233653572569113)], [('TransactionsDeb_CA', 'TransactionsDeb', 0.9233653572569113)]]\n"
     ]
    }
   ],
   "source": [
    "correlated_features = []\n",
    "for col in correlation_matrix.columns:\n",
    "    rows = np.where((correlation_matrix[col] > 0.85) &(correlation_matrix[col] < 1))\n",
    "    if len(rows[0]) > 0 :\n",
    "        tmp = [(col,correlation_matrix.index[r],correlation_matrix[col][r]) for r in rows[0]] \n",
    "        correlated_features.append(tmp)\n",
    "print(correlated_features)"
   ]
  },
  {
   "cell_type": "code",
   "execution_count": 46,
   "id": "3a17df60",
   "metadata": {},
   "outputs": [
    {
     "data": {
      "image/png": "[encoded data removed]",
      "text/plain": [
       "<Figure size 1200x800 with 2 Axes>"
      ]
     },
     "metadata": {},
     "output_type": "display_data"
    }
   ],
   "source": [
    "plt.figure(figsize=(12, 8))\n",
    "sns.heatmap(correlation_matrix, annot=False, cmap='coolwarm', fmt='.2f', linewidths=0.5)\n",
    "plt.title('Correlation Matrix')\n",
    "plt.show()"
   ]
  },
  {
   "cell_type": "code",
   "execution_count": null,
   "id": "40deba4c",
   "metadata": {},
   "outputs": [],
   "source": []
  },
  {
   "cell_type": "code",
   "execution_count": null,
   "id": "9973f94a",
   "metadata": {},
   "outputs": [],
   "source": []
  }
 ],
 "metadata": {
  "kernelspec": {
   "display_name": "Python 3 (ipykernel)",
   "language": "python",
   "name": "python3"
  },
  "language_info": {
   "codemirror_mode": {
    "name": "ipython",
    "version": 3
   },
   "file_extension": ".py",
   "mimetype": "text/x-python",
   "name": "python",
   "nbconvert_exporter": "python",
   "pygments_lexer": "ipython3",
   "version": "3.10.9"
  }
 },
 "nbformat": 4,
 "nbformat_minor": 5
}
